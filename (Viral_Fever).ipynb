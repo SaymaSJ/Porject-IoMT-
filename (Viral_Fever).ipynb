{
  "cells": [
    {
      "cell_type": "markdown",
      "metadata": {
        "id": "view-in-github",
        "colab_type": "text"
      },
      "source": [
        "<a href=\"https://colab.research.google.com/github/SaymaSJ/Porject-IoMT-/blob/main/(Viral_Fever).ipynb\" target=\"_parent\"><img src=\"https://colab.research.google.com/assets/colab-badge.svg\" alt=\"Open In Colab\"/></a>"
      ]
    },
    {
      "cell_type": "markdown",
      "metadata": {
        "id": "vuvwUtaueR4h"
      },
      "source": [
        "# Library"
      ]
    },
    {
      "cell_type": "code",
      "source": [],
      "metadata": {
        "id": "MO1JY2CbeXrS"
      },
      "execution_count": null,
      "outputs": []
    },
    {
      "cell_type": "code",
      "execution_count": null,
      "metadata": {
        "id": "R6zI764xeOr6"
      },
      "outputs": [],
      "source": [
        "import pandas as pd\n",
        "import numpy as np\n",
        "from sklearn.model_selection import train_test_split\n",
        "from sklearn.model_selection import cross_val_score\n",
        "from sklearn.metrics import accuracy_score,f1_score,confusion_matrix\n",
        "import seaborn as sb"
      ]
    },
    {
      "cell_type": "code",
      "execution_count": null,
      "metadata": {
        "id": "aRKb6tUyfw0N"
      },
      "outputs": [],
      "source": [
        "from sklearn.linear_model import LogisticRegression\n",
        "from sklearn.svm import SVC\n",
        "from sklearn.neighbors import KNeighborsClassifier\n",
        "from sklearn.ensemble import RandomForestClassifier\n",
        "from sklearn.tree import DecisionTreeClassifier"
      ]
    },
    {
      "cell_type": "markdown",
      "metadata": {
        "id": "z5_fMzH8fCzR"
      },
      "source": [
        "# Load Dataset"
      ]
    },
    {
      "cell_type": "code",
      "execution_count": null,
      "metadata": {
        "colab": {
          "base_uri": "https://localhost:8080/"
        },
        "id": "sq1NhCB2fEmb",
        "outputId": "a43f22f8-a400-4933-ef8d-aea4842d00fe"
      },
      "outputs": [
        {
          "output_type": "execute_result",
          "data": {
            "text/plain": [
              "   Temperature ()  Heart Rate (BPM)  Oxygen Saturation (%)  Movement (g)  \\\n",
              "0            98.8                94                     96          0.98   \n",
              "1           100.5                97                     92          0.98   \n",
              "2           100.6                96                     94          0.97   \n",
              "3            99.3                95                     95          0.98   \n",
              "4           100.2                97                     93          0.99   \n",
              "\n",
              "   Outcome  \n",
              "0        0  \n",
              "1        1  \n",
              "2        1  \n",
              "3        0  \n",
              "4        1  "
            ],
            "text/html": [
              "\n",
              "  <div id=\"df-c02b325f-a0d6-4fcc-9e92-acf128c51b8d\" class=\"colab-df-container\">\n",
              "    <div>\n",
              "<style scoped>\n",
              "    .dataframe tbody tr th:only-of-type {\n",
              "        vertical-align: middle;\n",
              "    }\n",
              "\n",
              "    .dataframe tbody tr th {\n",
              "        vertical-align: top;\n",
              "    }\n",
              "\n",
              "    .dataframe thead th {\n",
              "        text-align: right;\n",
              "    }\n",
              "</style>\n",
              "<table border=\"1\" class=\"dataframe\">\n",
              "  <thead>\n",
              "    <tr style=\"text-align: right;\">\n",
              "      <th></th>\n",
              "      <th>Temperature ()</th>\n",
              "      <th>Heart Rate (BPM)</th>\n",
              "      <th>Oxygen Saturation (%)</th>\n",
              "      <th>Movement (g)</th>\n",
              "      <th>Outcome</th>\n",
              "    </tr>\n",
              "  </thead>\n",
              "  <tbody>\n",
              "    <tr>\n",
              "      <th>0</th>\n",
              "      <td>98.8</td>\n",
              "      <td>94</td>\n",
              "      <td>96</td>\n",
              "      <td>0.98</td>\n",
              "      <td>0</td>\n",
              "    </tr>\n",
              "    <tr>\n",
              "      <th>1</th>\n",
              "      <td>100.5</td>\n",
              "      <td>97</td>\n",
              "      <td>92</td>\n",
              "      <td>0.98</td>\n",
              "      <td>1</td>\n",
              "    </tr>\n",
              "    <tr>\n",
              "      <th>2</th>\n",
              "      <td>100.6</td>\n",
              "      <td>96</td>\n",
              "      <td>94</td>\n",
              "      <td>0.97</td>\n",
              "      <td>1</td>\n",
              "    </tr>\n",
              "    <tr>\n",
              "      <th>3</th>\n",
              "      <td>99.3</td>\n",
              "      <td>95</td>\n",
              "      <td>95</td>\n",
              "      <td>0.98</td>\n",
              "      <td>0</td>\n",
              "    </tr>\n",
              "    <tr>\n",
              "      <th>4</th>\n",
              "      <td>100.2</td>\n",
              "      <td>97</td>\n",
              "      <td>93</td>\n",
              "      <td>0.99</td>\n",
              "      <td>1</td>\n",
              "    </tr>\n",
              "  </tbody>\n",
              "</table>\n",
              "</div>\n",
              "    <div class=\"colab-df-buttons\">\n",
              "\n",
              "  <div class=\"colab-df-container\">\n",
              "    <button class=\"colab-df-convert\" onclick=\"convertToInteractive('df-c02b325f-a0d6-4fcc-9e92-acf128c51b8d')\"\n",
              "            title=\"Convert this dataframe to an interactive table.\"\n",
              "            style=\"display:none;\">\n",
              "\n",
              "  <svg xmlns=\"http://www.w3.org/2000/svg\" height=\"24px\" viewBox=\"0 -960 960 960\">\n",
              "    <path d=\"M120-120v-720h720v720H120Zm60-500h600v-160H180v160Zm220 220h160v-160H400v160Zm0 220h160v-160H400v160ZM180-400h160v-160H180v160Zm440 0h160v-160H620v160ZM180-180h160v-160H180v160Zm440 0h160v-160H620v160Z\"/>\n",
              "  </svg>\n",
              "    </button>\n",
              "\n",
              "  <style>\n",
              "    .colab-df-container {\n",
              "      display:flex;\n",
              "      gap: 12px;\n",
              "    }\n",
              "\n",
              "    .colab-df-convert {\n",
              "      background-color: #E8F0FE;\n",
              "      border: none;\n",
              "      border-radius: 50%;\n",
              "      cursor: pointer;\n",
              "      display: none;\n",
              "      fill: #1967D2;\n",
              "      height: 32px;\n",
              "      padding: 0 0 0 0;\n",
              "      width: 32px;\n",
              "    }\n",
              "\n",
              "    .colab-df-convert:hover {\n",
              "      background-color: #E2EBFA;\n",
              "      box-shadow: 0px 1px 2px rgba(60, 64, 67, 0.3), 0px 1px 3px 1px rgba(60, 64, 67, 0.15);\n",
              "      fill: #174EA6;\n",
              "    }\n",
              "\n",
              "    .colab-df-buttons div {\n",
              "      margin-bottom: 4px;\n",
              "    }\n",
              "\n",
              "    [theme=dark] .colab-df-convert {\n",
              "      background-color: #3B4455;\n",
              "      fill: #D2E3FC;\n",
              "    }\n",
              "\n",
              "    [theme=dark] .colab-df-convert:hover {\n",
              "      background-color: #434B5C;\n",
              "      box-shadow: 0px 1px 3px 1px rgba(0, 0, 0, 0.15);\n",
              "      filter: drop-shadow(0px 1px 2px rgba(0, 0, 0, 0.3));\n",
              "      fill: #FFFFFF;\n",
              "    }\n",
              "  </style>\n",
              "\n",
              "    <script>\n",
              "      const buttonEl =\n",
              "        document.querySelector('#df-c02b325f-a0d6-4fcc-9e92-acf128c51b8d button.colab-df-convert');\n",
              "      buttonEl.style.display =\n",
              "        google.colab.kernel.accessAllowed ? 'block' : 'none';\n",
              "\n",
              "      async function convertToInteractive(key) {\n",
              "        const element = document.querySelector('#df-c02b325f-a0d6-4fcc-9e92-acf128c51b8d');\n",
              "        const dataTable =\n",
              "          await google.colab.kernel.invokeFunction('convertToInteractive',\n",
              "                                                    [key], {});\n",
              "        if (!dataTable) return;\n",
              "\n",
              "        const docLinkHtml = 'Like what you see? Visit the ' +\n",
              "          '<a target=\"_blank\" href=https://colab.research.google.com/notebooks/data_table.ipynb>data table notebook</a>'\n",
              "          + ' to learn more about interactive tables.';\n",
              "        element.innerHTML = '';\n",
              "        dataTable['output_type'] = 'display_data';\n",
              "        await google.colab.output.renderOutput(dataTable, element);\n",
              "        const docLink = document.createElement('div');\n",
              "        docLink.innerHTML = docLinkHtml;\n",
              "        element.appendChild(docLink);\n",
              "      }\n",
              "    </script>\n",
              "  </div>\n",
              "\n",
              "\n",
              "<div id=\"df-2f63c3c1-38ef-44df-be4f-815398c340a8\">\n",
              "  <button class=\"colab-df-quickchart\" onclick=\"quickchart('df-2f63c3c1-38ef-44df-be4f-815398c340a8')\"\n",
              "            title=\"Suggest charts\"\n",
              "            style=\"display:none;\">\n",
              "\n",
              "<svg xmlns=\"http://www.w3.org/2000/svg\" height=\"24px\"viewBox=\"0 0 24 24\"\n",
              "     width=\"24px\">\n",
              "    <g>\n",
              "        <path d=\"M19 3H5c-1.1 0-2 .9-2 2v14c0 1.1.9 2 2 2h14c1.1 0 2-.9 2-2V5c0-1.1-.9-2-2-2zM9 17H7v-7h2v7zm4 0h-2V7h2v10zm4 0h-2v-4h2v4z\"/>\n",
              "    </g>\n",
              "</svg>\n",
              "  </button>\n",
              "\n",
              "<style>\n",
              "  .colab-df-quickchart {\n",
              "      --bg-color: #E8F0FE;\n",
              "      --fill-color: #1967D2;\n",
              "      --hover-bg-color: #E2EBFA;\n",
              "      --hover-fill-color: #174EA6;\n",
              "      --disabled-fill-color: #AAA;\n",
              "      --disabled-bg-color: #DDD;\n",
              "  }\n",
              "\n",
              "  [theme=dark] .colab-df-quickchart {\n",
              "      --bg-color: #3B4455;\n",
              "      --fill-color: #D2E3FC;\n",
              "      --hover-bg-color: #434B5C;\n",
              "      --hover-fill-color: #FFFFFF;\n",
              "      --disabled-bg-color: #3B4455;\n",
              "      --disabled-fill-color: #666;\n",
              "  }\n",
              "\n",
              "  .colab-df-quickchart {\n",
              "    background-color: var(--bg-color);\n",
              "    border: none;\n",
              "    border-radius: 50%;\n",
              "    cursor: pointer;\n",
              "    display: none;\n",
              "    fill: var(--fill-color);\n",
              "    height: 32px;\n",
              "    padding: 0;\n",
              "    width: 32px;\n",
              "  }\n",
              "\n",
              "  .colab-df-quickchart:hover {\n",
              "    background-color: var(--hover-bg-color);\n",
              "    box-shadow: 0 1px 2px rgba(60, 64, 67, 0.3), 0 1px 3px 1px rgba(60, 64, 67, 0.15);\n",
              "    fill: var(--button-hover-fill-color);\n",
              "  }\n",
              "\n",
              "  .colab-df-quickchart-complete:disabled,\n",
              "  .colab-df-quickchart-complete:disabled:hover {\n",
              "    background-color: var(--disabled-bg-color);\n",
              "    fill: var(--disabled-fill-color);\n",
              "    box-shadow: none;\n",
              "  }\n",
              "\n",
              "  .colab-df-spinner {\n",
              "    border: 2px solid var(--fill-color);\n",
              "    border-color: transparent;\n",
              "    border-bottom-color: var(--fill-color);\n",
              "    animation:\n",
              "      spin 1s steps(1) infinite;\n",
              "  }\n",
              "\n",
              "  @keyframes spin {\n",
              "    0% {\n",
              "      border-color: transparent;\n",
              "      border-bottom-color: var(--fill-color);\n",
              "      border-left-color: var(--fill-color);\n",
              "    }\n",
              "    20% {\n",
              "      border-color: transparent;\n",
              "      border-left-color: var(--fill-color);\n",
              "      border-top-color: var(--fill-color);\n",
              "    }\n",
              "    30% {\n",
              "      border-color: transparent;\n",
              "      border-left-color: var(--fill-color);\n",
              "      border-top-color: var(--fill-color);\n",
              "      border-right-color: var(--fill-color);\n",
              "    }\n",
              "    40% {\n",
              "      border-color: transparent;\n",
              "      border-right-color: var(--fill-color);\n",
              "      border-top-color: var(--fill-color);\n",
              "    }\n",
              "    60% {\n",
              "      border-color: transparent;\n",
              "      border-right-color: var(--fill-color);\n",
              "    }\n",
              "    80% {\n",
              "      border-color: transparent;\n",
              "      border-right-color: var(--fill-color);\n",
              "      border-bottom-color: var(--fill-color);\n",
              "    }\n",
              "    90% {\n",
              "      border-color: transparent;\n",
              "      border-bottom-color: var(--fill-color);\n",
              "    }\n",
              "  }\n",
              "</style>\n",
              "\n",
              "  <script>\n",
              "    async function quickchart(key) {\n",
              "      const quickchartButtonEl =\n",
              "        document.querySelector('#' + key + ' button');\n",
              "      quickchartButtonEl.disabled = true;  // To prevent multiple clicks.\n",
              "      quickchartButtonEl.classList.add('colab-df-spinner');\n",
              "      try {\n",
              "        const charts = await google.colab.kernel.invokeFunction(\n",
              "            'suggestCharts', [key], {});\n",
              "      } catch (error) {\n",
              "        console.error('Error during call to suggestCharts:', error);\n",
              "      }\n",
              "      quickchartButtonEl.classList.remove('colab-df-spinner');\n",
              "      quickchartButtonEl.classList.add('colab-df-quickchart-complete');\n",
              "    }\n",
              "    (() => {\n",
              "      let quickchartButtonEl =\n",
              "        document.querySelector('#df-2f63c3c1-38ef-44df-be4f-815398c340a8 button');\n",
              "      quickchartButtonEl.style.display =\n",
              "        google.colab.kernel.accessAllowed ? 'block' : 'none';\n",
              "    })();\n",
              "  </script>\n",
              "</div>\n",
              "    </div>\n",
              "  </div>\n"
            ]
          },
          "metadata": {},
          "execution_count": 3
        }
      ],
      "source": [
        "data = pd.read_csv(\"health.csv\", encoding='unicode_escape')\n",
        "data.head()"
      ]
    },
    {
      "cell_type": "markdown",
      "metadata": {
        "id": "egI473MifeVz"
      },
      "source": [
        "Check missing Values"
      ]
    },
    {
      "cell_type": "code",
      "execution_count": null,
      "metadata": {
        "colab": {
          "base_uri": "https://localhost:8080/"
        },
        "id": "MVgCgEZ8fc-5",
        "outputId": "0e873d61-1f45-44eb-b27f-19f3fadb32da"
      },
      "outputs": [
        {
          "output_type": "execute_result",
          "data": {
            "text/plain": [
              "Temperature ()           0\n",
              "Heart Rate (BPM)         0\n",
              "Oxygen Saturation (%)    0\n",
              "Movement (g)             0\n",
              "Outcome                  0\n",
              "dtype: int64"
            ]
          },
          "metadata": {},
          "execution_count": 4
        }
      ],
      "source": [
        "data.isnull().sum()"
      ]
    },
    {
      "cell_type": "markdown",
      "metadata": {
        "id": "3vgKhW2Yf2v6"
      },
      "source": [
        "Cleaning dataset(Auto-Cleannig and preprocessing)"
      ]
    },
    {
      "cell_type": "code",
      "execution_count": null,
      "metadata": {
        "colab": {
          "base_uri": "https://localhost:8080/"
        },
        "id": "j-USqwgPf9Uh",
        "outputId": "a5e49177-3bba-4303-acf3-9f8f767f357c"
      },
      "outputs": [
        {
          "output_type": "stream",
          "name": "stdout",
          "text": [
            "Collecting py-AutoClean\n",
            "  Downloading py-AutoClean-1.1.3.tar.gz (9.5 kB)\n",
            "  Preparing metadata (setup.py) ... \u001b[?25l\u001b[?25hdone\n",
            "Requirement already satisfied: scikit-learn in /usr/local/lib/python3.10/dist-packages (from py-AutoClean) (1.2.2)\n",
            "Requirement already satisfied: numpy in /usr/local/lib/python3.10/dist-packages (from py-AutoClean) (1.23.5)\n",
            "Requirement already satisfied: pandas in /usr/local/lib/python3.10/dist-packages (from py-AutoClean) (1.5.3)\n",
            "Collecting loguru (from py-AutoClean)\n",
            "  Downloading loguru-0.7.2-py3-none-any.whl (62 kB)\n",
            "\u001b[2K     \u001b[90m━━━━━━━━━━━━━━━━━━━━━━━━━━━━━━━━━━━━━━━━\u001b[0m \u001b[32m62.5/62.5 kB\u001b[0m \u001b[31m2.0 MB/s\u001b[0m eta \u001b[36m0:00:00\u001b[0m\n",
            "\u001b[?25hRequirement already satisfied: python-dateutil>=2.8.1 in /usr/local/lib/python3.10/dist-packages (from pandas->py-AutoClean) (2.8.2)\n",
            "Requirement already satisfied: pytz>=2020.1 in /usr/local/lib/python3.10/dist-packages (from pandas->py-AutoClean) (2023.3.post1)\n",
            "Requirement already satisfied: scipy>=1.3.2 in /usr/local/lib/python3.10/dist-packages (from scikit-learn->py-AutoClean) (1.11.3)\n",
            "Requirement already satisfied: joblib>=1.1.1 in /usr/local/lib/python3.10/dist-packages (from scikit-learn->py-AutoClean) (1.3.2)\n",
            "Requirement already satisfied: threadpoolctl>=2.0.0 in /usr/local/lib/python3.10/dist-packages (from scikit-learn->py-AutoClean) (3.2.0)\n",
            "Requirement already satisfied: six>=1.5 in /usr/local/lib/python3.10/dist-packages (from python-dateutil>=2.8.1->pandas->py-AutoClean) (1.16.0)\n",
            "Building wheels for collected packages: py-AutoClean\n",
            "  Building wheel for py-AutoClean (setup.py) ... \u001b[?25l\u001b[?25hdone\n",
            "  Created wheel for py-AutoClean: filename=py_AutoClean-1.1.3-py3-none-any.whl size=10273 sha256=0cddb5ada7e354a16a70977a0b665591c27dc0947daac592aa956f3a2516090b\n",
            "  Stored in directory: /root/.cache/pip/wheels/b5/13/2b/3a5fdae6161f870ea670f2bf3a7157f8a5b38b166282b6bc92\n",
            "Successfully built py-AutoClean\n",
            "Installing collected packages: loguru, py-AutoClean\n",
            "Successfully installed loguru-0.7.2 py-AutoClean-1.1.3\n"
          ]
        }
      ],
      "source": [
        "pip install py-AutoClean"
      ]
    },
    {
      "cell_type": "markdown",
      "metadata": {
        "id": "VUE_0ahyjVmq"
      },
      "source": [
        "# Data preprocessing\n",
        "\n",
        "\n",
        "\n",
        "\n",
        "\n",
        "\n"
      ]
    },
    {
      "cell_type": "code",
      "execution_count": null,
      "metadata": {
        "id": "roCEI4gBgCUl"
      },
      "outputs": [],
      "source": [
        "from AutoClean import AutoClean"
      ]
    },
    {
      "cell_type": "code",
      "execution_count": null,
      "metadata": {
        "colab": {
          "base_uri": "https://localhost:8080/"
        },
        "id": "pYUVAijKgHcJ",
        "outputId": "2e1869c2-9a0e-42f9-e053-0a43d3cfc047"
      },
      "outputs": [
        {
          "output_type": "stream",
          "name": "stdout",
          "text": [
            "AutoClean process completed in 0.137966 seconds\n",
            "Logfile saved to: /content/autoclean.log\n"
          ]
        },
        {
          "output_type": "execute_result",
          "data": {
            "text/plain": [
              "   Temperature ()  Heart Rate (BPM)  Oxygen Saturation (%)  Movement (g)  \\\n",
              "0            98.8                94                     96          0.98   \n",
              "1           100.5                97                     92          0.98   \n",
              "2           100.6                96                     94          0.97   \n",
              "3            99.3                95                     95          0.98   \n",
              "4           100.2                97                     93          0.99   \n",
              "\n",
              "   Outcome  \n",
              "0        0  \n",
              "1        1  \n",
              "2        1  \n",
              "3        0  \n",
              "4        1  "
            ],
            "text/html": [
              "\n",
              "  <div id=\"df-038241f1-2781-4ac7-9d4f-d9207486e1bf\" class=\"colab-df-container\">\n",
              "    <div>\n",
              "<style scoped>\n",
              "    .dataframe tbody tr th:only-of-type {\n",
              "        vertical-align: middle;\n",
              "    }\n",
              "\n",
              "    .dataframe tbody tr th {\n",
              "        vertical-align: top;\n",
              "    }\n",
              "\n",
              "    .dataframe thead th {\n",
              "        text-align: right;\n",
              "    }\n",
              "</style>\n",
              "<table border=\"1\" class=\"dataframe\">\n",
              "  <thead>\n",
              "    <tr style=\"text-align: right;\">\n",
              "      <th></th>\n",
              "      <th>Temperature ()</th>\n",
              "      <th>Heart Rate (BPM)</th>\n",
              "      <th>Oxygen Saturation (%)</th>\n",
              "      <th>Movement (g)</th>\n",
              "      <th>Outcome</th>\n",
              "    </tr>\n",
              "  </thead>\n",
              "  <tbody>\n",
              "    <tr>\n",
              "      <th>0</th>\n",
              "      <td>98.8</td>\n",
              "      <td>94</td>\n",
              "      <td>96</td>\n",
              "      <td>0.98</td>\n",
              "      <td>0</td>\n",
              "    </tr>\n",
              "    <tr>\n",
              "      <th>1</th>\n",
              "      <td>100.5</td>\n",
              "      <td>97</td>\n",
              "      <td>92</td>\n",
              "      <td>0.98</td>\n",
              "      <td>1</td>\n",
              "    </tr>\n",
              "    <tr>\n",
              "      <th>2</th>\n",
              "      <td>100.6</td>\n",
              "      <td>96</td>\n",
              "      <td>94</td>\n",
              "      <td>0.97</td>\n",
              "      <td>1</td>\n",
              "    </tr>\n",
              "    <tr>\n",
              "      <th>3</th>\n",
              "      <td>99.3</td>\n",
              "      <td>95</td>\n",
              "      <td>95</td>\n",
              "      <td>0.98</td>\n",
              "      <td>0</td>\n",
              "    </tr>\n",
              "    <tr>\n",
              "      <th>4</th>\n",
              "      <td>100.2</td>\n",
              "      <td>97</td>\n",
              "      <td>93</td>\n",
              "      <td>0.99</td>\n",
              "      <td>1</td>\n",
              "    </tr>\n",
              "  </tbody>\n",
              "</table>\n",
              "</div>\n",
              "    <div class=\"colab-df-buttons\">\n",
              "\n",
              "  <div class=\"colab-df-container\">\n",
              "    <button class=\"colab-df-convert\" onclick=\"convertToInteractive('df-038241f1-2781-4ac7-9d4f-d9207486e1bf')\"\n",
              "            title=\"Convert this dataframe to an interactive table.\"\n",
              "            style=\"display:none;\">\n",
              "\n",
              "  <svg xmlns=\"http://www.w3.org/2000/svg\" height=\"24px\" viewBox=\"0 -960 960 960\">\n",
              "    <path d=\"M120-120v-720h720v720H120Zm60-500h600v-160H180v160Zm220 220h160v-160H400v160Zm0 220h160v-160H400v160ZM180-400h160v-160H180v160Zm440 0h160v-160H620v160ZM180-180h160v-160H180v160Zm440 0h160v-160H620v160Z\"/>\n",
              "  </svg>\n",
              "    </button>\n",
              "\n",
              "  <style>\n",
              "    .colab-df-container {\n",
              "      display:flex;\n",
              "      gap: 12px;\n",
              "    }\n",
              "\n",
              "    .colab-df-convert {\n",
              "      background-color: #E8F0FE;\n",
              "      border: none;\n",
              "      border-radius: 50%;\n",
              "      cursor: pointer;\n",
              "      display: none;\n",
              "      fill: #1967D2;\n",
              "      height: 32px;\n",
              "      padding: 0 0 0 0;\n",
              "      width: 32px;\n",
              "    }\n",
              "\n",
              "    .colab-df-convert:hover {\n",
              "      background-color: #E2EBFA;\n",
              "      box-shadow: 0px 1px 2px rgba(60, 64, 67, 0.3), 0px 1px 3px 1px rgba(60, 64, 67, 0.15);\n",
              "      fill: #174EA6;\n",
              "    }\n",
              "\n",
              "    .colab-df-buttons div {\n",
              "      margin-bottom: 4px;\n",
              "    }\n",
              "\n",
              "    [theme=dark] .colab-df-convert {\n",
              "      background-color: #3B4455;\n",
              "      fill: #D2E3FC;\n",
              "    }\n",
              "\n",
              "    [theme=dark] .colab-df-convert:hover {\n",
              "      background-color: #434B5C;\n",
              "      box-shadow: 0px 1px 3px 1px rgba(0, 0, 0, 0.15);\n",
              "      filter: drop-shadow(0px 1px 2px rgba(0, 0, 0, 0.3));\n",
              "      fill: #FFFFFF;\n",
              "    }\n",
              "  </style>\n",
              "\n",
              "    <script>\n",
              "      const buttonEl =\n",
              "        document.querySelector('#df-038241f1-2781-4ac7-9d4f-d9207486e1bf button.colab-df-convert');\n",
              "      buttonEl.style.display =\n",
              "        google.colab.kernel.accessAllowed ? 'block' : 'none';\n",
              "\n",
              "      async function convertToInteractive(key) {\n",
              "        const element = document.querySelector('#df-038241f1-2781-4ac7-9d4f-d9207486e1bf');\n",
              "        const dataTable =\n",
              "          await google.colab.kernel.invokeFunction('convertToInteractive',\n",
              "                                                    [key], {});\n",
              "        if (!dataTable) return;\n",
              "\n",
              "        const docLinkHtml = 'Like what you see? Visit the ' +\n",
              "          '<a target=\"_blank\" href=https://colab.research.google.com/notebooks/data_table.ipynb>data table notebook</a>'\n",
              "          + ' to learn more about interactive tables.';\n",
              "        element.innerHTML = '';\n",
              "        dataTable['output_type'] = 'display_data';\n",
              "        await google.colab.output.renderOutput(dataTable, element);\n",
              "        const docLink = document.createElement('div');\n",
              "        docLink.innerHTML = docLinkHtml;\n",
              "        element.appendChild(docLink);\n",
              "      }\n",
              "    </script>\n",
              "  </div>\n",
              "\n",
              "\n",
              "<div id=\"df-7fd8d6e9-5ac0-4750-90e6-ae5fb7747bfe\">\n",
              "  <button class=\"colab-df-quickchart\" onclick=\"quickchart('df-7fd8d6e9-5ac0-4750-90e6-ae5fb7747bfe')\"\n",
              "            title=\"Suggest charts\"\n",
              "            style=\"display:none;\">\n",
              "\n",
              "<svg xmlns=\"http://www.w3.org/2000/svg\" height=\"24px\"viewBox=\"0 0 24 24\"\n",
              "     width=\"24px\">\n",
              "    <g>\n",
              "        <path d=\"M19 3H5c-1.1 0-2 .9-2 2v14c0 1.1.9 2 2 2h14c1.1 0 2-.9 2-2V5c0-1.1-.9-2-2-2zM9 17H7v-7h2v7zm4 0h-2V7h2v10zm4 0h-2v-4h2v4z\"/>\n",
              "    </g>\n",
              "</svg>\n",
              "  </button>\n",
              "\n",
              "<style>\n",
              "  .colab-df-quickchart {\n",
              "      --bg-color: #E8F0FE;\n",
              "      --fill-color: #1967D2;\n",
              "      --hover-bg-color: #E2EBFA;\n",
              "      --hover-fill-color: #174EA6;\n",
              "      --disabled-fill-color: #AAA;\n",
              "      --disabled-bg-color: #DDD;\n",
              "  }\n",
              "\n",
              "  [theme=dark] .colab-df-quickchart {\n",
              "      --bg-color: #3B4455;\n",
              "      --fill-color: #D2E3FC;\n",
              "      --hover-bg-color: #434B5C;\n",
              "      --hover-fill-color: #FFFFFF;\n",
              "      --disabled-bg-color: #3B4455;\n",
              "      --disabled-fill-color: #666;\n",
              "  }\n",
              "\n",
              "  .colab-df-quickchart {\n",
              "    background-color: var(--bg-color);\n",
              "    border: none;\n",
              "    border-radius: 50%;\n",
              "    cursor: pointer;\n",
              "    display: none;\n",
              "    fill: var(--fill-color);\n",
              "    height: 32px;\n",
              "    padding: 0;\n",
              "    width: 32px;\n",
              "  }\n",
              "\n",
              "  .colab-df-quickchart:hover {\n",
              "    background-color: var(--hover-bg-color);\n",
              "    box-shadow: 0 1px 2px rgba(60, 64, 67, 0.3), 0 1px 3px 1px rgba(60, 64, 67, 0.15);\n",
              "    fill: var(--button-hover-fill-color);\n",
              "  }\n",
              "\n",
              "  .colab-df-quickchart-complete:disabled,\n",
              "  .colab-df-quickchart-complete:disabled:hover {\n",
              "    background-color: var(--disabled-bg-color);\n",
              "    fill: var(--disabled-fill-color);\n",
              "    box-shadow: none;\n",
              "  }\n",
              "\n",
              "  .colab-df-spinner {\n",
              "    border: 2px solid var(--fill-color);\n",
              "    border-color: transparent;\n",
              "    border-bottom-color: var(--fill-color);\n",
              "    animation:\n",
              "      spin 1s steps(1) infinite;\n",
              "  }\n",
              "\n",
              "  @keyframes spin {\n",
              "    0% {\n",
              "      border-color: transparent;\n",
              "      border-bottom-color: var(--fill-color);\n",
              "      border-left-color: var(--fill-color);\n",
              "    }\n",
              "    20% {\n",
              "      border-color: transparent;\n",
              "      border-left-color: var(--fill-color);\n",
              "      border-top-color: var(--fill-color);\n",
              "    }\n",
              "    30% {\n",
              "      border-color: transparent;\n",
              "      border-left-color: var(--fill-color);\n",
              "      border-top-color: var(--fill-color);\n",
              "      border-right-color: var(--fill-color);\n",
              "    }\n",
              "    40% {\n",
              "      border-color: transparent;\n",
              "      border-right-color: var(--fill-color);\n",
              "      border-top-color: var(--fill-color);\n",
              "    }\n",
              "    60% {\n",
              "      border-color: transparent;\n",
              "      border-right-color: var(--fill-color);\n",
              "    }\n",
              "    80% {\n",
              "      border-color: transparent;\n",
              "      border-right-color: var(--fill-color);\n",
              "      border-bottom-color: var(--fill-color);\n",
              "    }\n",
              "    90% {\n",
              "      border-color: transparent;\n",
              "      border-bottom-color: var(--fill-color);\n",
              "    }\n",
              "  }\n",
              "</style>\n",
              "\n",
              "  <script>\n",
              "    async function quickchart(key) {\n",
              "      const quickchartButtonEl =\n",
              "        document.querySelector('#' + key + ' button');\n",
              "      quickchartButtonEl.disabled = true;  // To prevent multiple clicks.\n",
              "      quickchartButtonEl.classList.add('colab-df-spinner');\n",
              "      try {\n",
              "        const charts = await google.colab.kernel.invokeFunction(\n",
              "            'suggestCharts', [key], {});\n",
              "      } catch (error) {\n",
              "        console.error('Error during call to suggestCharts:', error);\n",
              "      }\n",
              "      quickchartButtonEl.classList.remove('colab-df-spinner');\n",
              "      quickchartButtonEl.classList.add('colab-df-quickchart-complete');\n",
              "    }\n",
              "    (() => {\n",
              "      let quickchartButtonEl =\n",
              "        document.querySelector('#df-7fd8d6e9-5ac0-4750-90e6-ae5fb7747bfe button');\n",
              "      quickchartButtonEl.style.display =\n",
              "        google.colab.kernel.accessAllowed ? 'block' : 'none';\n",
              "    })();\n",
              "  </script>\n",
              "</div>\n",
              "    </div>\n",
              "  </div>\n"
            ]
          },
          "metadata": {},
          "execution_count": 7
        }
      ],
      "source": [
        "pipeline=AutoClean(data)\n",
        "pipeline.output.head()"
      ]
    },
    {
      "cell_type": "code",
      "execution_count": null,
      "metadata": {
        "colab": {
          "base_uri": "https://localhost:8080/"
        },
        "id": "uZWKQCNGhAl2",
        "outputId": "74eb523e-c1b3-4ed4-ba9d-96a6d5c86c2b"
      },
      "outputs": [
        {
          "output_type": "execute_result",
          "data": {
            "text/plain": [
              "(949, 5)"
            ]
          },
          "metadata": {},
          "execution_count": 8
        }
      ],
      "source": [
        "data.shape"
      ]
    },
    {
      "cell_type": "code",
      "execution_count": null,
      "metadata": {
        "colab": {
          "base_uri": "https://localhost:8080/"
        },
        "id": "7chCvUAghKSf",
        "outputId": "70b7ede1-8235-4722-8deb-92d2b325e948"
      },
      "outputs": [
        {
          "output_type": "execute_result",
          "data": {
            "text/plain": [
              "       Temperature ()  Heart Rate (BPM)  Oxygen Saturation (%)  Movement (g)  \\\n",
              "count       949.00000        949.000000             949.000000    949.000000   \n",
              "mean        101.60411         98.981033              88.275026      0.982371   \n",
              "std          30.14080          4.789411              39.504302      0.009998   \n",
              "min          98.00000          4.000000               5.000000      0.960000   \n",
              "25%          99.20000         96.000000              81.000000      0.980000   \n",
              "50%         100.50000         99.000000              90.000000      0.980000   \n",
              "75%         101.90000        101.000000              92.000000      0.990000   \n",
              "max        1028.00000        116.000000             929.000000      1.000000   \n",
              "\n",
              "          Outcome  \n",
              "count  949.000000  \n",
              "mean     0.680717  \n",
              "std      0.466445  \n",
              "min      0.000000  \n",
              "25%      0.000000  \n",
              "50%      1.000000  \n",
              "75%      1.000000  \n",
              "max      1.000000  "
            ],
            "text/html": [
              "\n",
              "  <div id=\"df-953352f4-e2b2-46ad-9729-9dbca443952e\" class=\"colab-df-container\">\n",
              "    <div>\n",
              "<style scoped>\n",
              "    .dataframe tbody tr th:only-of-type {\n",
              "        vertical-align: middle;\n",
              "    }\n",
              "\n",
              "    .dataframe tbody tr th {\n",
              "        vertical-align: top;\n",
              "    }\n",
              "\n",
              "    .dataframe thead th {\n",
              "        text-align: right;\n",
              "    }\n",
              "</style>\n",
              "<table border=\"1\" class=\"dataframe\">\n",
              "  <thead>\n",
              "    <tr style=\"text-align: right;\">\n",
              "      <th></th>\n",
              "      <th>Temperature ()</th>\n",
              "      <th>Heart Rate (BPM)</th>\n",
              "      <th>Oxygen Saturation (%)</th>\n",
              "      <th>Movement (g)</th>\n",
              "      <th>Outcome</th>\n",
              "    </tr>\n",
              "  </thead>\n",
              "  <tbody>\n",
              "    <tr>\n",
              "      <th>count</th>\n",
              "      <td>949.00000</td>\n",
              "      <td>949.000000</td>\n",
              "      <td>949.000000</td>\n",
              "      <td>949.000000</td>\n",
              "      <td>949.000000</td>\n",
              "    </tr>\n",
              "    <tr>\n",
              "      <th>mean</th>\n",
              "      <td>101.60411</td>\n",
              "      <td>98.981033</td>\n",
              "      <td>88.275026</td>\n",
              "      <td>0.982371</td>\n",
              "      <td>0.680717</td>\n",
              "    </tr>\n",
              "    <tr>\n",
              "      <th>std</th>\n",
              "      <td>30.14080</td>\n",
              "      <td>4.789411</td>\n",
              "      <td>39.504302</td>\n",
              "      <td>0.009998</td>\n",
              "      <td>0.466445</td>\n",
              "    </tr>\n",
              "    <tr>\n",
              "      <th>min</th>\n",
              "      <td>98.00000</td>\n",
              "      <td>4.000000</td>\n",
              "      <td>5.000000</td>\n",
              "      <td>0.960000</td>\n",
              "      <td>0.000000</td>\n",
              "    </tr>\n",
              "    <tr>\n",
              "      <th>25%</th>\n",
              "      <td>99.20000</td>\n",
              "      <td>96.000000</td>\n",
              "      <td>81.000000</td>\n",
              "      <td>0.980000</td>\n",
              "      <td>0.000000</td>\n",
              "    </tr>\n",
              "    <tr>\n",
              "      <th>50%</th>\n",
              "      <td>100.50000</td>\n",
              "      <td>99.000000</td>\n",
              "      <td>90.000000</td>\n",
              "      <td>0.980000</td>\n",
              "      <td>1.000000</td>\n",
              "    </tr>\n",
              "    <tr>\n",
              "      <th>75%</th>\n",
              "      <td>101.90000</td>\n",
              "      <td>101.000000</td>\n",
              "      <td>92.000000</td>\n",
              "      <td>0.990000</td>\n",
              "      <td>1.000000</td>\n",
              "    </tr>\n",
              "    <tr>\n",
              "      <th>max</th>\n",
              "      <td>1028.00000</td>\n",
              "      <td>116.000000</td>\n",
              "      <td>929.000000</td>\n",
              "      <td>1.000000</td>\n",
              "      <td>1.000000</td>\n",
              "    </tr>\n",
              "  </tbody>\n",
              "</table>\n",
              "</div>\n",
              "    <div class=\"colab-df-buttons\">\n",
              "\n",
              "  <div class=\"colab-df-container\">\n",
              "    <button class=\"colab-df-convert\" onclick=\"convertToInteractive('df-953352f4-e2b2-46ad-9729-9dbca443952e')\"\n",
              "            title=\"Convert this dataframe to an interactive table.\"\n",
              "            style=\"display:none;\">\n",
              "\n",
              "  <svg xmlns=\"http://www.w3.org/2000/svg\" height=\"24px\" viewBox=\"0 -960 960 960\">\n",
              "    <path d=\"M120-120v-720h720v720H120Zm60-500h600v-160H180v160Zm220 220h160v-160H400v160Zm0 220h160v-160H400v160ZM180-400h160v-160H180v160Zm440 0h160v-160H620v160ZM180-180h160v-160H180v160Zm440 0h160v-160H620v160Z\"/>\n",
              "  </svg>\n",
              "    </button>\n",
              "\n",
              "  <style>\n",
              "    .colab-df-container {\n",
              "      display:flex;\n",
              "      gap: 12px;\n",
              "    }\n",
              "\n",
              "    .colab-df-convert {\n",
              "      background-color: #E8F0FE;\n",
              "      border: none;\n",
              "      border-radius: 50%;\n",
              "      cursor: pointer;\n",
              "      display: none;\n",
              "      fill: #1967D2;\n",
              "      height: 32px;\n",
              "      padding: 0 0 0 0;\n",
              "      width: 32px;\n",
              "    }\n",
              "\n",
              "    .colab-df-convert:hover {\n",
              "      background-color: #E2EBFA;\n",
              "      box-shadow: 0px 1px 2px rgba(60, 64, 67, 0.3), 0px 1px 3px 1px rgba(60, 64, 67, 0.15);\n",
              "      fill: #174EA6;\n",
              "    }\n",
              "\n",
              "    .colab-df-buttons div {\n",
              "      margin-bottom: 4px;\n",
              "    }\n",
              "\n",
              "    [theme=dark] .colab-df-convert {\n",
              "      background-color: #3B4455;\n",
              "      fill: #D2E3FC;\n",
              "    }\n",
              "\n",
              "    [theme=dark] .colab-df-convert:hover {\n",
              "      background-color: #434B5C;\n",
              "      box-shadow: 0px 1px 3px 1px rgba(0, 0, 0, 0.15);\n",
              "      filter: drop-shadow(0px 1px 2px rgba(0, 0, 0, 0.3));\n",
              "      fill: #FFFFFF;\n",
              "    }\n",
              "  </style>\n",
              "\n",
              "    <script>\n",
              "      const buttonEl =\n",
              "        document.querySelector('#df-953352f4-e2b2-46ad-9729-9dbca443952e button.colab-df-convert');\n",
              "      buttonEl.style.display =\n",
              "        google.colab.kernel.accessAllowed ? 'block' : 'none';\n",
              "\n",
              "      async function convertToInteractive(key) {\n",
              "        const element = document.querySelector('#df-953352f4-e2b2-46ad-9729-9dbca443952e');\n",
              "        const dataTable =\n",
              "          await google.colab.kernel.invokeFunction('convertToInteractive',\n",
              "                                                    [key], {});\n",
              "        if (!dataTable) return;\n",
              "\n",
              "        const docLinkHtml = 'Like what you see? Visit the ' +\n",
              "          '<a target=\"_blank\" href=https://colab.research.google.com/notebooks/data_table.ipynb>data table notebook</a>'\n",
              "          + ' to learn more about interactive tables.';\n",
              "        element.innerHTML = '';\n",
              "        dataTable['output_type'] = 'display_data';\n",
              "        await google.colab.output.renderOutput(dataTable, element);\n",
              "        const docLink = document.createElement('div');\n",
              "        docLink.innerHTML = docLinkHtml;\n",
              "        element.appendChild(docLink);\n",
              "      }\n",
              "    </script>\n",
              "  </div>\n",
              "\n",
              "\n",
              "<div id=\"df-971bfb52-d180-4a3d-8c04-757d42748a42\">\n",
              "  <button class=\"colab-df-quickchart\" onclick=\"quickchart('df-971bfb52-d180-4a3d-8c04-757d42748a42')\"\n",
              "            title=\"Suggest charts\"\n",
              "            style=\"display:none;\">\n",
              "\n",
              "<svg xmlns=\"http://www.w3.org/2000/svg\" height=\"24px\"viewBox=\"0 0 24 24\"\n",
              "     width=\"24px\">\n",
              "    <g>\n",
              "        <path d=\"M19 3H5c-1.1 0-2 .9-2 2v14c0 1.1.9 2 2 2h14c1.1 0 2-.9 2-2V5c0-1.1-.9-2-2-2zM9 17H7v-7h2v7zm4 0h-2V7h2v10zm4 0h-2v-4h2v4z\"/>\n",
              "    </g>\n",
              "</svg>\n",
              "  </button>\n",
              "\n",
              "<style>\n",
              "  .colab-df-quickchart {\n",
              "      --bg-color: #E8F0FE;\n",
              "      --fill-color: #1967D2;\n",
              "      --hover-bg-color: #E2EBFA;\n",
              "      --hover-fill-color: #174EA6;\n",
              "      --disabled-fill-color: #AAA;\n",
              "      --disabled-bg-color: #DDD;\n",
              "  }\n",
              "\n",
              "  [theme=dark] .colab-df-quickchart {\n",
              "      --bg-color: #3B4455;\n",
              "      --fill-color: #D2E3FC;\n",
              "      --hover-bg-color: #434B5C;\n",
              "      --hover-fill-color: #FFFFFF;\n",
              "      --disabled-bg-color: #3B4455;\n",
              "      --disabled-fill-color: #666;\n",
              "  }\n",
              "\n",
              "  .colab-df-quickchart {\n",
              "    background-color: var(--bg-color);\n",
              "    border: none;\n",
              "    border-radius: 50%;\n",
              "    cursor: pointer;\n",
              "    display: none;\n",
              "    fill: var(--fill-color);\n",
              "    height: 32px;\n",
              "    padding: 0;\n",
              "    width: 32px;\n",
              "  }\n",
              "\n",
              "  .colab-df-quickchart:hover {\n",
              "    background-color: var(--hover-bg-color);\n",
              "    box-shadow: 0 1px 2px rgba(60, 64, 67, 0.3), 0 1px 3px 1px rgba(60, 64, 67, 0.15);\n",
              "    fill: var(--button-hover-fill-color);\n",
              "  }\n",
              "\n",
              "  .colab-df-quickchart-complete:disabled,\n",
              "  .colab-df-quickchart-complete:disabled:hover {\n",
              "    background-color: var(--disabled-bg-color);\n",
              "    fill: var(--disabled-fill-color);\n",
              "    box-shadow: none;\n",
              "  }\n",
              "\n",
              "  .colab-df-spinner {\n",
              "    border: 2px solid var(--fill-color);\n",
              "    border-color: transparent;\n",
              "    border-bottom-color: var(--fill-color);\n",
              "    animation:\n",
              "      spin 1s steps(1) infinite;\n",
              "  }\n",
              "\n",
              "  @keyframes spin {\n",
              "    0% {\n",
              "      border-color: transparent;\n",
              "      border-bottom-color: var(--fill-color);\n",
              "      border-left-color: var(--fill-color);\n",
              "    }\n",
              "    20% {\n",
              "      border-color: transparent;\n",
              "      border-left-color: var(--fill-color);\n",
              "      border-top-color: var(--fill-color);\n",
              "    }\n",
              "    30% {\n",
              "      border-color: transparent;\n",
              "      border-left-color: var(--fill-color);\n",
              "      border-top-color: var(--fill-color);\n",
              "      border-right-color: var(--fill-color);\n",
              "    }\n",
              "    40% {\n",
              "      border-color: transparent;\n",
              "      border-right-color: var(--fill-color);\n",
              "      border-top-color: var(--fill-color);\n",
              "    }\n",
              "    60% {\n",
              "      border-color: transparent;\n",
              "      border-right-color: var(--fill-color);\n",
              "    }\n",
              "    80% {\n",
              "      border-color: transparent;\n",
              "      border-right-color: var(--fill-color);\n",
              "      border-bottom-color: var(--fill-color);\n",
              "    }\n",
              "    90% {\n",
              "      border-color: transparent;\n",
              "      border-bottom-color: var(--fill-color);\n",
              "    }\n",
              "  }\n",
              "</style>\n",
              "\n",
              "  <script>\n",
              "    async function quickchart(key) {\n",
              "      const quickchartButtonEl =\n",
              "        document.querySelector('#' + key + ' button');\n",
              "      quickchartButtonEl.disabled = true;  // To prevent multiple clicks.\n",
              "      quickchartButtonEl.classList.add('colab-df-spinner');\n",
              "      try {\n",
              "        const charts = await google.colab.kernel.invokeFunction(\n",
              "            'suggestCharts', [key], {});\n",
              "      } catch (error) {\n",
              "        console.error('Error during call to suggestCharts:', error);\n",
              "      }\n",
              "      quickchartButtonEl.classList.remove('colab-df-spinner');\n",
              "      quickchartButtonEl.classList.add('colab-df-quickchart-complete');\n",
              "    }\n",
              "    (() => {\n",
              "      let quickchartButtonEl =\n",
              "        document.querySelector('#df-971bfb52-d180-4a3d-8c04-757d42748a42 button');\n",
              "      quickchartButtonEl.style.display =\n",
              "        google.colab.kernel.accessAllowed ? 'block' : 'none';\n",
              "    })();\n",
              "  </script>\n",
              "</div>\n",
              "    </div>\n",
              "  </div>\n"
            ]
          },
          "metadata": {},
          "execution_count": 9
        }
      ],
      "source": [
        "data.describe()"
      ]
    },
    {
      "cell_type": "code",
      "execution_count": null,
      "metadata": {
        "id": "raH552o7hR2w"
      },
      "outputs": [],
      "source": [
        "from collections import Counter"
      ]
    },
    {
      "cell_type": "code",
      "execution_count": null,
      "metadata": {
        "colab": {
          "base_uri": "https://localhost:8080/"
        },
        "id": "IheXvbrDi7Sz",
        "outputId": "516c4828-055a-401e-d0ce-9f9c5d809bb3"
      },
      "outputs": [
        {
          "output_type": "stream",
          "name": "stdout",
          "text": [
            "Collecting imblearn\n",
            "  Downloading imblearn-0.0-py2.py3-none-any.whl (1.9 kB)\n",
            "Requirement already satisfied: imbalanced-learn in /usr/local/lib/python3.10/dist-packages (from imblearn) (0.10.1)\n",
            "Requirement already satisfied: numpy>=1.17.3 in /usr/local/lib/python3.10/dist-packages (from imbalanced-learn->imblearn) (1.23.5)\n",
            "Requirement already satisfied: scipy>=1.3.2 in /usr/local/lib/python3.10/dist-packages (from imbalanced-learn->imblearn) (1.11.3)\n",
            "Requirement already satisfied: scikit-learn>=1.0.2 in /usr/local/lib/python3.10/dist-packages (from imbalanced-learn->imblearn) (1.2.2)\n",
            "Requirement already satisfied: joblib>=1.1.1 in /usr/local/lib/python3.10/dist-packages (from imbalanced-learn->imblearn) (1.3.2)\n",
            "Requirement already satisfied: threadpoolctl>=2.0.0 in /usr/local/lib/python3.10/dist-packages (from imbalanced-learn->imblearn) (3.2.0)\n",
            "Installing collected packages: imblearn\n",
            "Successfully installed imblearn-0.0\n"
          ]
        }
      ],
      "source": [
        "pip install imblearn"
      ]
    },
    {
      "cell_type": "code",
      "execution_count": null,
      "metadata": {
        "colab": {
          "base_uri": "https://localhost:8080/"
        },
        "id": "dFUZAm3ei9Sg",
        "outputId": "019cbdea-bee8-4dff-e3db-5e5e9f136478"
      },
      "outputs": [
        {
          "output_type": "stream",
          "name": "stdout",
          "text": [
            "[(0, 303), (1, 646)]\n"
          ]
        }
      ],
      "source": [
        "print(sorted(Counter(data['Outcome']).items()))"
      ]
    },
    {
      "cell_type": "markdown",
      "metadata": {
        "id": "W0uhXHWskV0U"
      },
      "source": [
        "# **Scaling**"
      ]
    },
    {
      "cell_type": "code",
      "execution_count": null,
      "metadata": {
        "id": "DjIi9Cf7gJQx"
      },
      "outputs": [],
      "source": [
        "from sklearn.preprocessing import StandardScaler\n",
        "scaler = StandardScaler()#creation of instance\n",
        "scaler.fit(data.drop('Outcome',axis=1))\n",
        "scaled_features = scaler.transform(data.drop('Outcome',axis=1))"
      ]
    },
    {
      "cell_type": "code",
      "execution_count": null,
      "metadata": {
        "id": "H1qIZ-RzgfIb"
      },
      "outputs": [],
      "source": [
        "X = scaled_features\n",
        "y = data['Outcome']"
      ]
    },
    {
      "cell_type": "code",
      "execution_count": null,
      "metadata": {
        "colab": {
          "base_uri": "https://localhost:8080/"
        },
        "id": "hOZuUuoZg07w",
        "outputId": "7b26f57b-3cc7-456a-e876-104a1ca97734"
      },
      "outputs": [
        {
          "output_type": "stream",
          "name": "stdout",
          "text": [
            "X:(949, 4)\n",
            "y:(949,)\n"
          ]
        }
      ],
      "source": [
        "print(f'X:{X.shape}')\n",
        "print(f'y:{y.shape}')\n"
      ]
    },
    {
      "cell_type": "markdown",
      "metadata": {
        "id": "yMtEAZobwHor"
      },
      "source": [
        "Over-sampling"
      ]
    },
    {
      "cell_type": "code",
      "execution_count": null,
      "metadata": {
        "colab": {
          "base_uri": "https://localhost:8080/"
        },
        "id": "pG78eRyJwZ_7",
        "outputId": "980be32c-0299-40d1-9e9b-5f6920b1e6be"
      },
      "outputs": [
        {
          "output_type": "execute_result",
          "data": {
            "text/plain": [
              "1    646\n",
              "0    303\n",
              "Name: Outcome, dtype: int64"
            ]
          },
          "metadata": {},
          "execution_count": 21
        }
      ],
      "source": [
        "y.value_counts()\n"
      ]
    },
    {
      "cell_type": "code",
      "execution_count": null,
      "metadata": {
        "colab": {
          "base_uri": "https://localhost:8080/"
        },
        "id": "rtYOQBzvxSkN",
        "outputId": "43b1fca5-abbb-4306-fea8-d81cd82c1dc8"
      },
      "outputs": [
        {
          "output_type": "execute_result",
          "data": {
            "text/plain": [
              "<Axes: ylabel='Outcome'>"
            ]
          },
          "metadata": {},
          "execution_count": 22
        },
        {
          "output_type": "display_data",
          "data": {
            "text/plain": [
              "<Figure size 640x480 with 1 Axes>"
            ],
            "image/png": "[encoded data removed]"
          },
          "metadata": {}
        }
      ],
      "source": [
        "y.value_counts().plot.pie(autopct='%.2f')\n"
      ]
    },
    {
      "cell_type": "markdown",
      "metadata": {
        "id": "uPgEABr7vcwY"
      },
      "source": [
        "# Less important\n"
      ]
    },
    {
      "cell_type": "code",
      "execution_count": null,
      "metadata": {
        "colab": {
          "base_uri": "https://localhost:8080/"
        },
        "id": "TX7N60VGyMqz",
        "outputId": "1e55abab-ceb5-4ad2-d88b-e188b7ab18e6"
      },
      "outputs": [
        {
          "output_type": "stream",
          "name": "stdout",
          "text": [
            "[(0, 646), (1, 646)] (1292,)\n"
          ]
        },
        {
          "output_type": "display_data",
          "data": {
            "text/plain": [
              "<Figure size 640x480 with 1 Axes>"
            ],
            "image/png": "[encoded data removed]"
          },
          "metadata": {}
        }
      ],
      "source": [
        "# from imblearn.over_sampling import RandomOverSampler\n",
        "# # # rus=RandomUnderSampler(sampling_strategy=1)\n",
        "# ros = RandomOverSampler(sampling_strategy=\"auto\")\n",
        "# X_res, y_res = ros.fit_resample(X, y)\n",
        "# # print('Resampled dataset shape %s' % Counter(y_res))\n",
        "# # X_res, y_res = rus.fit_resample(X,y)\n",
        "# # # print(sorted(Counter(y).items()),y_res.shape)\n",
        "# ax= y_res.value_counts().plot.pie(autopct='%.2f')\n",
        "# _=ax.set_title(\"Over_sampling\")\n",
        "# print(sorted(Counter(y_res).items()),y_res.shape)\n",
        "\n",
        "\n",
        "from imblearn.over_sampling import SMOTE\n",
        "# Resampling the minority class. The strategy can be changed as required.\n",
        "sm = SMOTE(sampling_strategy='minority', random_state=42)\n",
        "# Fit the model to generate the data.\n",
        "X_res, y_res = sm.fit_resample(X,y)\n",
        "ax= y_res.value_counts().plot.pie(autopct='%.2f')\n",
        "_=ax.set_title(\"Over_sampling\")\n",
        "print(sorted(Counter(y_res).items()),y_res.shape)\n",
        "\n",
        "# from imblearn.under_sampling import RandomUnderSampler\n",
        "# rus=RandomUnderSampler(sampling_strategy=1)\n",
        "# X_res, y_res = rus.fit_resample(X,y)\n",
        "# # print(sorted(Counter(y).items()),y_res.shape)\n",
        "# ax= y_res.value_counts().plot.pie(autopct='%.2f')\n",
        "# _=ax.set_title(\"Under_sampling\")\n",
        "\n",
        "\n"
      ]
    },
    {
      "cell_type": "markdown",
      "metadata": {
        "id": "V9_7mhHUvkT-"
      },
      "source": [
        "# splitting test and train"
      ]
    },
    {
      "cell_type": "code",
      "execution_count": null,
      "metadata": {
        "id": "Ggk-eXIXhWn5"
      },
      "outputs": [],
      "source": [
        "from sklearn.model_selection import train_test_split\n",
        "X_train, X_test, y_train, y_test=train_test_split(X_res,y_res,train_size=.3 ,shuffle=True,random_state=17)"
      ]
    },
    {
      "cell_type": "code",
      "execution_count": null,
      "metadata": {
        "colab": {
          "base_uri": "https://localhost:8080/"
        },
        "id": "2WjQquU6iQIh",
        "outputId": "89c71ccb-13b8-4916-e1cb-d4c2796c7714"
      },
      "outputs": [
        {
          "output_type": "stream",
          "name": "stdout",
          "text": [
            "X_train: (387, 4)\n",
            "X_test: (905, 4)\n",
            "y_train: (387,)\n",
            "y_test: (905,)\n"
          ]
        }
      ],
      "source": [
        "print(f'X_train: {X_train.shape}')\n",
        "print(f'X_test: {X_test.shape}')\n",
        "print(f'y_train: {y_train.shape}')\n",
        "print(f'y_test: {y_test.shape}')"
      ]
    },
    {
      "cell_type": "markdown",
      "metadata": {
        "id": "AwQ8uDTQJxCu"
      },
      "source": [
        "# SVM(Classifier)"
      ]
    },
    {
      "cell_type": "code",
      "execution_count": null,
      "metadata": {
        "id": "IQAtq7ASzC-G"
      },
      "outputs": [],
      "source": [
        "from sklearn.svm import SVC\n",
        "from sklearn.preprocessing import StandardScaler\n",
        "from sklearn.metrics import classification_report, confusion_matrix\n",
        "from sklearn.feature_selection import SelectKBest, f_classif"
      ]
    },
    {
      "cell_type": "code",
      "execution_count": null,
      "metadata": {
        "colab": {
          "base_uri": "https://localhost:8080/"
        },
        "id": "P7CbbyNs4019",
        "outputId": "cd7018d7-30d7-4916-e21e-a62ab34b8a00"
      },
      "outputs": [
        {
          "output_type": "stream",
          "name": "stdout",
          "text": [
            "[[448   1]\n",
            " [ 67 389]]\n",
            "              precision    recall  f1-score   support\n",
            "\n",
            "           0       0.87      1.00      0.93       449\n",
            "           1       1.00      0.85      0.92       456\n",
            "\n",
            "    accuracy                           0.92       905\n",
            "   macro avg       0.93      0.93      0.92       905\n",
            "weighted avg       0.93      0.92      0.92       905\n",
            "\n",
            "Training Accuracy: 0.9198966408268734\n",
            "Validation Accuracy: 0.9248618784530387\n"
          ]
        },
        {
          "output_type": "execute_result",
          "data": {
            "text/plain": [
              "0.9248618784530387"
            ]
          },
          "metadata": {},
          "execution_count": 29
        }
      ],
      "source": [
        "svm = SVC(kernel='linear',gamma=\"auto\", probability=True, C=17)\n",
        "svm.fit(X_train, y_train)\n",
        "y_pred =svm.predict(X_test)\n",
        "# Evaluate predictions\n",
        "print(confusion_matrix(y_test, y_pred))\n",
        "print(classification_report(y_test, y_pred))\n",
        "svm.score(X_test,y_test)\n",
        "train_predictions = svm.predict(X_train)\n",
        "val_predictions =svm.predict(X_test)\n",
        "\n",
        "# Calculate accuracy on training and validation sets\n",
        "train_accuracy = accuracy_score(y_train, train_predictions)\n",
        "val_accuracy = accuracy_score(y_test, val_predictions)\n",
        "\n",
        "print(f\"Training Accuracy: {train_accuracy}\")\n",
        "print(f\"Validation Accuracy: {val_accuracy}\")\n",
        "accuracy_score(y_test,y_pred)\n"
      ]
    },
    {
      "cell_type": "code",
      "execution_count": null,
      "metadata": {
        "colab": {
          "base_uri": "https://localhost:8080/"
        },
        "id": "8d3PjLLQPRCm",
        "outputId": "269f5029-1395-4722-f74b-829ce8d99f22"
      },
      "outputs": [
        {
          "output_type": "stream",
          "name": "stdout",
          "text": [
            "Accuracy: 0.9248618784530387\n",
            "Precision: 0.9974358974358974\n",
            "Recall: 0.8530701754385965\n",
            "F1-Score: 0.9196217494089834\n"
          ]
        }
      ],
      "source": [
        "from sklearn.metrics import precision_score, recall_score, f1_score\n",
        "\n",
        "# Calculate precision, recall, and F1-score\n",
        "precision = precision_score(y_test, y_pred)\n",
        "recall = recall_score(y_test, y_pred)\n",
        "f1 = f1_score(y_test, y_pred)\n",
        "\n",
        "print(\"Accuracy:\", accuracy_score(y_test, y_pred))\n",
        "print(\"Precision:\", precision)\n",
        "print(\"Recall:\", recall)\n",
        "print(\"F1-Score:\", f1)"
      ]
    },
    {
      "cell_type": "markdown",
      "metadata": {
        "id": "N81wOLirNbLx"
      },
      "source": [
        "# Grid Search method for SVM"
      ]
    },
    {
      "cell_type": "code",
      "execution_count": null,
      "metadata": {
        "colab": {
          "base_uri": "https://localhost:8080/"
        },
        "id": "raLasxw5NDtL",
        "outputId": "c0979fd5-4723-4e9c-e6b2-a8ebd9d49ff9"
      },
      "outputs": [
        {
          "output_type": "execute_result",
          "data": {
            "text/plain": [
              "{'mean_fit_time': array([0.00788212, 0.00840416, 0.00702672, 0.01084886, 0.00709968,\n",
              "        0.00789094, 0.00811863, 0.02323885, 0.00668306, 0.03239708,\n",
              "        0.00946708, 0.02136979]),\n",
              " 'std_fit_time': array([0.00258271, 0.00353196, 0.00097385, 0.00335336, 0.00094868,\n",
              "        0.0013779 , 0.00300595, 0.00544485, 0.00024088, 0.03347837,\n",
              "        0.00354202, 0.0099169 ]),\n",
              " 'mean_score_time': array([0.00542197, 0.00615401, 0.00635462, 0.00367565, 0.00442958,\n",
              "        0.00377855, 0.00539436, 0.00981874, 0.00408564, 0.00357041,\n",
              "        0.00607033, 0.00364761]),\n",
              " 'std_score_time': array([1.36334589e-03, 3.34216513e-03, 4.11381766e-03, 1.37064384e-04,\n",
              "        1.70078062e-04, 5.88525754e-04, 2.53732508e-03, 3.88017726e-03,\n",
              "        5.32276299e-05, 1.91125684e-04, 3.42696278e-03, 1.97830330e-04]),\n",
              " 'param_C': masked_array(data=[1, 1, 5, 5, 6, 6, 10, 10, 15, 15, 20, 20],\n",
              "              mask=[False, False, False, False, False, False, False, False,\n",
              "                    False, False, False, False],\n",
              "        fill_value='?',\n",
              "             dtype=object),\n",
              " 'param_kernel': masked_array(data=['rbf', 'linear', 'rbf', 'linear', 'rbf', 'linear',\n",
              "                    'rbf', 'linear', 'rbf', 'linear', 'rbf', 'linear'],\n",
              "              mask=[False, False, False, False, False, False, False, False,\n",
              "                    False, False, False, False],\n",
              "        fill_value='?',\n",
              "             dtype=object),\n",
              " 'params': [{'C': 1, 'kernel': 'rbf'},\n",
              "  {'C': 1, 'kernel': 'linear'},\n",
              "  {'C': 5, 'kernel': 'rbf'},\n",
              "  {'C': 5, 'kernel': 'linear'},\n",
              "  {'C': 6, 'kernel': 'rbf'},\n",
              "  {'C': 6, 'kernel': 'linear'},\n",
              "  {'C': 10, 'kernel': 'rbf'},\n",
              "  {'C': 10, 'kernel': 'linear'},\n",
              "  {'C': 15, 'kernel': 'rbf'},\n",
              "  {'C': 15, 'kernel': 'linear'},\n",
              "  {'C': 20, 'kernel': 'rbf'},\n",
              "  {'C': 20, 'kernel': 'linear'}],\n",
              " 'split0_test_score': array([0.70507973, 0.8061309 , 0.83264565, 0.88305847, 0.83264565,\n",
              "        0.88305847, 0.87043189, 0.92225914, 0.87043189, 0.93537697,\n",
              "        0.87043189, 0.9484127 ]),\n",
              " 'split1_test_score': array([0.74945055, 0.78586136, 0.81453804, 0.86868687, 0.81453804,\n",
              "        0.86868687, 0.84103261, 0.88227402, 0.84103261, 0.88227402,\n",
              "        0.85494505, 0.92225914]),\n",
              " 'split2_test_score': array([0.76136364, 0.84090909, 0.88184143, 0.89466484, 0.90809889,\n",
              "        0.89466484, 0.90809889, 0.89466484, 0.90809889, 0.89466484,\n",
              "        0.90809889, 0.89466484]),\n",
              " 'split3_test_score': array([0.71423752, 0.71190476, 0.75257906, 0.88280061, 0.75257906,\n",
              "        0.88280061, 0.83071199, 0.92142857, 0.87010796, 0.92142857,\n",
              "        0.84349593, 0.94783198]),\n",
              " 'split4_test_score': array([0.73484848, 0.75701262, 0.7985348 , 0.83958333, 0.7985348 ,\n",
              "        0.83958333, 0.81284722, 0.85358686, 0.83958333, 0.86742424,\n",
              "        0.82539683, 0.88111168]),\n",
              " 'mean_test_score': array([0.73299598, 0.78036375, 0.8160278 , 0.87375882, 0.82127929,\n",
              "        0.87375882, 0.85262452, 0.89484269, 0.86585094, 0.90023373,\n",
              "        0.86047372, 0.91885607]),\n",
              " 'std_test_score': array([0.0210243 , 0.04379912, 0.04228842, 0.01896833, 0.0508907 ,\n",
              "        0.01896833, 0.03344031, 0.02576244, 0.02501973, 0.02495714,\n",
              "        0.02798758, 0.02732996]),\n",
              " 'rank_test_score': array([12, 11, 10,  4,  9,  4,  8,  3,  6,  2,  7,  1], dtype=int32)}"
            ]
          },
          "metadata": {},
          "execution_count": 34
        }
      ],
      "source": [
        "from sklearn.model_selection import GridSearchCV\n",
        "svm = GridSearchCV(SVC(gamma='auto'), {\n",
        "    'C': [1,5,6,10,15,20],\n",
        "    'kernel': ['rbf','linear',]\n",
        "}, cv=5, return_train_score=False,scoring='f1_macro')\n",
        "svm.fit(X_train, y_train)\n",
        "svm.cv_results_"
      ]
    },
    {
      "cell_type": "code",
      "execution_count": null,
      "metadata": {
        "colab": {
          "base_uri": "https://localhost:8080/"
        },
        "id": "6WU7uBhqOcLe",
        "outputId": "2c92c6e0-f8d7-43a6-be13-579dddd0b4ad"
      },
      "outputs": [
        {
          "output_type": "execute_result",
          "data": {
            "text/plain": [
              "    mean_fit_time  std_fit_time  mean_score_time  std_score_time param_C  \\\n",
              "0        0.007882      0.002583         0.005422        0.001363       1   \n",
              "1        0.008404      0.003532         0.006154        0.003342       1   \n",
              "2        0.007027      0.000974         0.006355        0.004114       5   \n",
              "3        0.010849      0.003353         0.003676        0.000137       5   \n",
              "4        0.007100      0.000949         0.004430        0.000170       6   \n",
              "5        0.007891      0.001378         0.003779        0.000589       6   \n",
              "6        0.008119      0.003006         0.005394        0.002537      10   \n",
              "7        0.023239      0.005445         0.009819        0.003880      10   \n",
              "8        0.006683      0.000241         0.004086        0.000053      15   \n",
              "9        0.032397      0.033478         0.003570        0.000191      15   \n",
              "10       0.009467      0.003542         0.006070        0.003427      20   \n",
              "11       0.021370      0.009917         0.003648        0.000198      20   \n",
              "\n",
              "   param_kernel                         params  split0_test_score  \\\n",
              "0           rbf      {'C': 1, 'kernel': 'rbf'}           0.705080   \n",
              "1        linear   {'C': 1, 'kernel': 'linear'}           0.806131   \n",
              "2           rbf      {'C': 5, 'kernel': 'rbf'}           0.832646   \n",
              "3        linear   {'C': 5, 'kernel': 'linear'}           0.883058   \n",
              "4           rbf      {'C': 6, 'kernel': 'rbf'}           0.832646   \n",
              "5        linear   {'C': 6, 'kernel': 'linear'}           0.883058   \n",
              "6           rbf     {'C': 10, 'kernel': 'rbf'}           0.870432   \n",
              "7        linear  {'C': 10, 'kernel': 'linear'}           0.922259   \n",
              "8           rbf     {'C': 15, 'kernel': 'rbf'}           0.870432   \n",
              "9        linear  {'C': 15, 'kernel': 'linear'}           0.935377   \n",
              "10          rbf     {'C': 20, 'kernel': 'rbf'}           0.870432   \n",
              "11       linear  {'C': 20, 'kernel': 'linear'}           0.948413   \n",
              "\n",
              "    split1_test_score  split2_test_score  split3_test_score  \\\n",
              "0            0.749451           0.761364           0.714238   \n",
              "1            0.785861           0.840909           0.711905   \n",
              "2            0.814538           0.881841           0.752579   \n",
              "3            0.868687           0.894665           0.882801   \n",
              "4            0.814538           0.908099           0.752579   \n",
              "5            0.868687           0.894665           0.882801   \n",
              "6            0.841033           0.908099           0.830712   \n",
              "7            0.882274           0.894665           0.921429   \n",
              "8            0.841033           0.908099           0.870108   \n",
              "9            0.882274           0.894665           0.921429   \n",
              "10           0.854945           0.908099           0.843496   \n",
              "11           0.922259           0.894665           0.947832   \n",
              "\n",
              "    split4_test_score  mean_test_score  std_test_score  rank_test_score  \n",
              "0            0.734848         0.732996        0.021024               12  \n",
              "1            0.757013         0.780364        0.043799               11  \n",
              "2            0.798535         0.816028        0.042288               10  \n",
              "3            0.839583         0.873759        0.018968                4  \n",
              "4            0.798535         0.821279        0.050891                9  \n",
              "5            0.839583         0.873759        0.018968                4  \n",
              "6            0.812847         0.852625        0.033440                8  \n",
              "7            0.853587         0.894843        0.025762                3  \n",
              "8            0.839583         0.865851        0.025020                6  \n",
              "9            0.867424         0.900234        0.024957                2  \n",
              "10           0.825397         0.860474        0.027988                7  \n",
              "11           0.881112         0.918856        0.027330                1  "
            ],
            "text/html": [
              "\n",
              "  <div id=\"df-5ec91db0-45a5-48a5-9bc9-055ebd5e2a15\" class=\"colab-df-container\">\n",
              "    <div>\n",
              "<style scoped>\n",
              "    .dataframe tbody tr th:only-of-type {\n",
              "        vertical-align: middle;\n",
              "    }\n",
              "\n",
              "    .dataframe tbody tr th {\n",
              "        vertical-align: top;\n",
              "    }\n",
              "\n",
              "    .dataframe thead th {\n",
              "        text-align: right;\n",
              "    }\n",
              "</style>\n",
              "<table border=\"1\" class=\"dataframe\">\n",
              "  <thead>\n",
              "    <tr style=\"text-align: right;\">\n",
              "      <th></th>\n",
              "      <th>mean_fit_time</th>\n",
              "      <th>std_fit_time</th>\n",
              "      <th>mean_score_time</th>\n",
              "      <th>std_score_time</th>\n",
              "      <th>param_C</th>\n",
              "      <th>param_kernel</th>\n",
              "      <th>params</th>\n",
              "      <th>split0_test_score</th>\n",
              "      <th>split1_test_score</th>\n",
              "      <th>split2_test_score</th>\n",
              "      <th>split3_test_score</th>\n",
              "      <th>split4_test_score</th>\n",
              "      <th>mean_test_score</th>\n",
              "      <th>std_test_score</th>\n",
              "      <th>rank_test_score</th>\n",
              "    </tr>\n",
              "  </thead>\n",
              "  <tbody>\n",
              "    <tr>\n",
              "      <th>0</th>\n",
              "      <td>0.007882</td>\n",
              "      <td>0.002583</td>\n",
              "      <td>0.005422</td>\n",
              "      <td>0.001363</td>\n",
              "      <td>1</td>\n",
              "      <td>rbf</td>\n",
              "      <td>{'C': 1, 'kernel': 'rbf'}</td>\n",
              "      <td>0.705080</td>\n",
              "      <td>0.749451</td>\n",
              "      <td>0.761364</td>\n",
              "      <td>0.714238</td>\n",
              "      <td>0.734848</td>\n",
              "      <td>0.732996</td>\n",
              "      <td>0.021024</td>\n",
              "      <td>12</td>\n",
              "    </tr>\n",
              "    <tr>\n",
              "      <th>1</th>\n",
              "      <td>0.008404</td>\n",
              "      <td>0.003532</td>\n",
              "      <td>0.006154</td>\n",
              "      <td>0.003342</td>\n",
              "      <td>1</td>\n",
              "      <td>linear</td>\n",
              "      <td>{'C': 1, 'kernel': 'linear'}</td>\n",
              "      <td>0.806131</td>\n",
              "      <td>0.785861</td>\n",
              "      <td>0.840909</td>\n",
              "      <td>0.711905</td>\n",
              "      <td>0.757013</td>\n",
              "      <td>0.780364</td>\n",
              "      <td>0.043799</td>\n",
              "      <td>11</td>\n",
              "    </tr>\n",
              "    <tr>\n",
              "      <th>2</th>\n",
              "      <td>0.007027</td>\n",
              "      <td>0.000974</td>\n",
              "      <td>0.006355</td>\n",
              "      <td>0.004114</td>\n",
              "      <td>5</td>\n",
              "      <td>rbf</td>\n",
              "      <td>{'C': 5, 'kernel': 'rbf'}</td>\n",
              "      <td>0.832646</td>\n",
              "      <td>0.814538</td>\n",
              "      <td>0.881841</td>\n",
              "      <td>0.752579</td>\n",
              "      <td>0.798535</td>\n",
              "      <td>0.816028</td>\n",
              "      <td>0.042288</td>\n",
              "      <td>10</td>\n",
              "    </tr>\n",
              "    <tr>\n",
              "      <th>3</th>\n",
              "      <td>0.010849</td>\n",
              "      <td>0.003353</td>\n",
              "      <td>0.003676</td>\n",
              "      <td>0.000137</td>\n",
              "      <td>5</td>\n",
              "      <td>linear</td>\n",
              "      <td>{'C': 5, 'kernel': 'linear'}</td>\n",
              "      <td>0.883058</td>\n",
              "      <td>0.868687</td>\n",
              "      <td>0.894665</td>\n",
              "      <td>0.882801</td>\n",
              "      <td>0.839583</td>\n",
              "      <td>0.873759</td>\n",
              "      <td>0.018968</td>\n",
              "      <td>4</td>\n",
              "    </tr>\n",
              "    <tr>\n",
              "      <th>4</th>\n",
              "      <td>0.007100</td>\n",
              "      <td>0.000949</td>\n",
              "      <td>0.004430</td>\n",
              "      <td>0.000170</td>\n",
              "      <td>6</td>\n",
              "      <td>rbf</td>\n",
              "      <td>{'C': 6, 'kernel': 'rbf'}</td>\n",
              "      <td>0.832646</td>\n",
              "      <td>0.814538</td>\n",
              "      <td>0.908099</td>\n",
              "      <td>0.752579</td>\n",
              "      <td>0.798535</td>\n",
              "      <td>0.821279</td>\n",
              "      <td>0.050891</td>\n",
              "      <td>9</td>\n",
              "    </tr>\n",
              "    <tr>\n",
              "      <th>5</th>\n",
              "      <td>0.007891</td>\n",
              "      <td>0.001378</td>\n",
              "      <td>0.003779</td>\n",
              "      <td>0.000589</td>\n",
              "      <td>6</td>\n",
              "      <td>linear</td>\n",
              "      <td>{'C': 6, 'kernel': 'linear'}</td>\n",
              "      <td>0.883058</td>\n",
              "      <td>0.868687</td>\n",
              "      <td>0.894665</td>\n",
              "      <td>0.882801</td>\n",
              "      <td>0.839583</td>\n",
              "      <td>0.873759</td>\n",
              "      <td>0.018968</td>\n",
              "      <td>4</td>\n",
              "    </tr>\n",
              "    <tr>\n",
              "      <th>6</th>\n",
              "      <td>0.008119</td>\n",
              "      <td>0.003006</td>\n",
              "      <td>0.005394</td>\n",
              "      <td>0.002537</td>\n",
              "      <td>10</td>\n",
              "      <td>rbf</td>\n",
              "      <td>{'C': 10, 'kernel': 'rbf'}</td>\n",
              "      <td>0.870432</td>\n",
              "      <td>0.841033</td>\n",
              "      <td>0.908099</td>\n",
              "      <td>0.830712</td>\n",
              "      <td>0.812847</td>\n",
              "      <td>0.852625</td>\n",
              "      <td>0.033440</td>\n",
              "      <td>8</td>\n",
              "    </tr>\n",
              "    <tr>\n",
              "      <th>7</th>\n",
              "      <td>0.023239</td>\n",
              "      <td>0.005445</td>\n",
              "      <td>0.009819</td>\n",
              "      <td>0.003880</td>\n",
              "      <td>10</td>\n",
              "      <td>linear</td>\n",
              "      <td>{'C': 10, 'kernel': 'linear'}</td>\n",
              "      <td>0.922259</td>\n",
              "      <td>0.882274</td>\n",
              "      <td>0.894665</td>\n",
              "      <td>0.921429</td>\n",
              "      <td>0.853587</td>\n",
              "      <td>0.894843</td>\n",
              "      <td>0.025762</td>\n",
              "      <td>3</td>\n",
              "    </tr>\n",
              "    <tr>\n",
              "      <th>8</th>\n",
              "      <td>0.006683</td>\n",
              "      <td>0.000241</td>\n",
              "      <td>0.004086</td>\n",
              "      <td>0.000053</td>\n",
              "      <td>15</td>\n",
              "      <td>rbf</td>\n",
              "      <td>{'C': 15, 'kernel': 'rbf'}</td>\n",
              "      <td>0.870432</td>\n",
              "      <td>0.841033</td>\n",
              "      <td>0.908099</td>\n",
              "      <td>0.870108</td>\n",
              "      <td>0.839583</td>\n",
              "      <td>0.865851</td>\n",
              "      <td>0.025020</td>\n",
              "      <td>6</td>\n",
              "    </tr>\n",
              "    <tr>\n",
              "      <th>9</th>\n",
              "      <td>0.032397</td>\n",
              "      <td>0.033478</td>\n",
              "      <td>0.003570</td>\n",
              "      <td>0.000191</td>\n",
              "      <td>15</td>\n",
              "      <td>linear</td>\n",
              "      <td>{'C': 15, 'kernel': 'linear'}</td>\n",
              "      <td>0.935377</td>\n",
              "      <td>0.882274</td>\n",
              "      <td>0.894665</td>\n",
              "      <td>0.921429</td>\n",
              "      <td>0.867424</td>\n",
              "      <td>0.900234</td>\n",
              "      <td>0.024957</td>\n",
              "      <td>2</td>\n",
              "    </tr>\n",
              "    <tr>\n",
              "      <th>10</th>\n",
              "      <td>0.009467</td>\n",
              "      <td>0.003542</td>\n",
              "      <td>0.006070</td>\n",
              "      <td>0.003427</td>\n",
              "      <td>20</td>\n",
              "      <td>rbf</td>\n",
              "      <td>{'C': 20, 'kernel': 'rbf'}</td>\n",
              "      <td>0.870432</td>\n",
              "      <td>0.854945</td>\n",
              "      <td>0.908099</td>\n",
              "      <td>0.843496</td>\n",
              "      <td>0.825397</td>\n",
              "      <td>0.860474</td>\n",
              "      <td>0.027988</td>\n",
              "      <td>7</td>\n",
              "    </tr>\n",
              "    <tr>\n",
              "      <th>11</th>\n",
              "      <td>0.021370</td>\n",
              "      <td>0.009917</td>\n",
              "      <td>0.003648</td>\n",
              "      <td>0.000198</td>\n",
              "      <td>20</td>\n",
              "      <td>linear</td>\n",
              "      <td>{'C': 20, 'kernel': 'linear'}</td>\n",
              "      <td>0.948413</td>\n",
              "      <td>0.922259</td>\n",
              "      <td>0.894665</td>\n",
              "      <td>0.947832</td>\n",
              "      <td>0.881112</td>\n",
              "      <td>0.918856</td>\n",
              "      <td>0.027330</td>\n",
              "      <td>1</td>\n",
              "    </tr>\n",
              "  </tbody>\n",
              "</table>\n",
              "</div>\n",
              "    <div class=\"colab-df-buttons\">\n",
              "\n",
              "  <div class=\"colab-df-container\">\n",
              "    <button class=\"colab-df-convert\" onclick=\"convertToInteractive('df-5ec91db0-45a5-48a5-9bc9-055ebd5e2a15')\"\n",
              "            title=\"Convert this dataframe to an interactive table.\"\n",
              "            style=\"display:none;\">\n",
              "\n",
              "  <svg xmlns=\"http://www.w3.org/2000/svg\" height=\"24px\" viewBox=\"0 -960 960 960\">\n",
              "    <path d=\"M120-120v-720h720v720H120Zm60-500h600v-160H180v160Zm220 220h160v-160H400v160Zm0 220h160v-160H400v160ZM180-400h160v-160H180v160Zm440 0h160v-160H620v160ZM180-180h160v-160H180v160Zm440 0h160v-160H620v160Z\"/>\n",
              "  </svg>\n",
              "    </button>\n",
              "\n",
              "  <style>\n",
              "    .colab-df-container {\n",
              "      display:flex;\n",
              "      gap: 12px;\n",
              "    }\n",
              "\n",
              "    .colab-df-convert {\n",
              "      background-color: #E8F0FE;\n",
              "      border: none;\n",
              "      border-radius: 50%;\n",
              "      cursor: pointer;\n",
              "      display: none;\n",
              "      fill: #1967D2;\n",
              "      height: 32px;\n",
              "      padding: 0 0 0 0;\n",
              "      width: 32px;\n",
              "    }\n",
              "\n",
              "    .colab-df-convert:hover {\n",
              "      background-color: #E2EBFA;\n",
              "      box-shadow: 0px 1px 2px rgba(60, 64, 67, 0.3), 0px 1px 3px 1px rgba(60, 64, 67, 0.15);\n",
              "      fill: #174EA6;\n",
              "    }\n",
              "\n",
              "    .colab-df-buttons div {\n",
              "      margin-bottom: 4px;\n",
              "    }\n",
              "\n",
              "    [theme=dark] .colab-df-convert {\n",
              "      background-color: #3B4455;\n",
              "      fill: #D2E3FC;\n",
              "    }\n",
              "\n",
              "    [theme=dark] .colab-df-convert:hover {\n",
              "      background-color: #434B5C;\n",
              "      box-shadow: 0px 1px 3px 1px rgba(0, 0, 0, 0.15);\n",
              "      filter: drop-shadow(0px 1px 2px rgba(0, 0, 0, 0.3));\n",
              "      fill: #FFFFFF;\n",
              "    }\n",
              "  </style>\n",
              "\n",
              "    <script>\n",
              "      const buttonEl =\n",
              "        document.querySelector('#df-5ec91db0-45a5-48a5-9bc9-055ebd5e2a15 button.colab-df-convert');\n",
              "      buttonEl.style.display =\n",
              "        google.colab.kernel.accessAllowed ? 'block' : 'none';\n",
              "\n",
              "      async function convertToInteractive(key) {\n",
              "        const element = document.querySelector('#df-5ec91db0-45a5-48a5-9bc9-055ebd5e2a15');\n",
              "        const dataTable =\n",
              "          await google.colab.kernel.invokeFunction('convertToInteractive',\n",
              "                                                    [key], {});\n",
              "        if (!dataTable) return;\n",
              "\n",
              "        const docLinkHtml = 'Like what you see? Visit the ' +\n",
              "          '<a target=\"_blank\" href=https://colab.research.google.com/notebooks/data_table.ipynb>data table notebook</a>'\n",
              "          + ' to learn more about interactive tables.';\n",
              "        element.innerHTML = '';\n",
              "        dataTable['output_type'] = 'display_data';\n",
              "        await google.colab.output.renderOutput(dataTable, element);\n",
              "        const docLink = document.createElement('div');\n",
              "        docLink.innerHTML = docLinkHtml;\n",
              "        element.appendChild(docLink);\n",
              "      }\n",
              "    </script>\n",
              "  </div>\n",
              "\n",
              "\n",
              "<div id=\"df-1cd94f7c-63d0-4553-9881-c1e0d4919f2b\">\n",
              "  <button class=\"colab-df-quickchart\" onclick=\"quickchart('df-1cd94f7c-63d0-4553-9881-c1e0d4919f2b')\"\n",
              "            title=\"Suggest charts\"\n",
              "            style=\"display:none;\">\n",
              "\n",
              "<svg xmlns=\"http://www.w3.org/2000/svg\" height=\"24px\"viewBox=\"0 0 24 24\"\n",
              "     width=\"24px\">\n",
              "    <g>\n",
              "        <path d=\"M19 3H5c-1.1 0-2 .9-2 2v14c0 1.1.9 2 2 2h14c1.1 0 2-.9 2-2V5c0-1.1-.9-2-2-2zM9 17H7v-7h2v7zm4 0h-2V7h2v10zm4 0h-2v-4h2v4z\"/>\n",
              "    </g>\n",
              "</svg>\n",
              "  </button>\n",
              "\n",
              "<style>\n",
              "  .colab-df-quickchart {\n",
              "      --bg-color: #E8F0FE;\n",
              "      --fill-color: #1967D2;\n",
              "      --hover-bg-color: #E2EBFA;\n",
              "      --hover-fill-color: #174EA6;\n",
              "      --disabled-fill-color: #AAA;\n",
              "      --disabled-bg-color: #DDD;\n",
              "  }\n",
              "\n",
              "  [theme=dark] .colab-df-quickchart {\n",
              "      --bg-color: #3B4455;\n",
              "      --fill-color: #D2E3FC;\n",
              "      --hover-bg-color: #434B5C;\n",
              "      --hover-fill-color: #FFFFFF;\n",
              "      --disabled-bg-color: #3B4455;\n",
              "      --disabled-fill-color: #666;\n",
              "  }\n",
              "\n",
              "  .colab-df-quickchart {\n",
              "    background-color: var(--bg-color);\n",
              "    border: none;\n",
              "    border-radius: 50%;\n",
              "    cursor: pointer;\n",
              "    display: none;\n",
              "    fill: var(--fill-color);\n",
              "    height: 32px;\n",
              "    padding: 0;\n",
              "    width: 32px;\n",
              "  }\n",
              "\n",
              "  .colab-df-quickchart:hover {\n",
              "    background-color: var(--hover-bg-color);\n",
              "    box-shadow: 0 1px 2px rgba(60, 64, 67, 0.3), 0 1px 3px 1px rgba(60, 64, 67, 0.15);\n",
              "    fill: var(--button-hover-fill-color);\n",
              "  }\n",
              "\n",
              "  .colab-df-quickchart-complete:disabled,\n",
              "  .colab-df-quickchart-complete:disabled:hover {\n",
              "    background-color: var(--disabled-bg-color);\n",
              "    fill: var(--disabled-fill-color);\n",
              "    box-shadow: none;\n",
              "  }\n",
              "\n",
              "  .colab-df-spinner {\n",
              "    border: 2px solid var(--fill-color);\n",
              "    border-color: transparent;\n",
              "    border-bottom-color: var(--fill-color);\n",
              "    animation:\n",
              "      spin 1s steps(1) infinite;\n",
              "  }\n",
              "\n",
              "  @keyframes spin {\n",
              "    0% {\n",
              "      border-color: transparent;\n",
              "      border-bottom-color: var(--fill-color);\n",
              "      border-left-color: var(--fill-color);\n",
              "    }\n",
              "    20% {\n",
              "      border-color: transparent;\n",
              "      border-left-color: var(--fill-color);\n",
              "      border-top-color: var(--fill-color);\n",
              "    }\n",
              "    30% {\n",
              "      border-color: transparent;\n",
              "      border-left-color: var(--fill-color);\n",
              "      border-top-color: var(--fill-color);\n",
              "      border-right-color: var(--fill-color);\n",
              "    }\n",
              "    40% {\n",
              "      border-color: transparent;\n",
              "      border-right-color: var(--fill-color);\n",
              "      border-top-color: var(--fill-color);\n",
              "    }\n",
              "    60% {\n",
              "      border-color: transparent;\n",
              "      border-right-color: var(--fill-color);\n",
              "    }\n",
              "    80% {\n",
              "      border-color: transparent;\n",
              "      border-right-color: var(--fill-color);\n",
              "      border-bottom-color: var(--fill-color);\n",
              "    }\n",
              "    90% {\n",
              "      border-color: transparent;\n",
              "      border-bottom-color: var(--fill-color);\n",
              "    }\n",
              "  }\n",
              "</style>\n",
              "\n",
              "  <script>\n",
              "    async function quickchart(key) {\n",
              "      const quickchartButtonEl =\n",
              "        document.querySelector('#' + key + ' button');\n",
              "      quickchartButtonEl.disabled = true;  // To prevent multiple clicks.\n",
              "      quickchartButtonEl.classList.add('colab-df-spinner');\n",
              "      try {\n",
              "        const charts = await google.colab.kernel.invokeFunction(\n",
              "            'suggestCharts', [key], {});\n",
              "      } catch (error) {\n",
              "        console.error('Error during call to suggestCharts:', error);\n",
              "      }\n",
              "      quickchartButtonEl.classList.remove('colab-df-spinner');\n",
              "      quickchartButtonEl.classList.add('colab-df-quickchart-complete');\n",
              "    }\n",
              "    (() => {\n",
              "      let quickchartButtonEl =\n",
              "        document.querySelector('#df-1cd94f7c-63d0-4553-9881-c1e0d4919f2b button');\n",
              "      quickchartButtonEl.style.display =\n",
              "        google.colab.kernel.accessAllowed ? 'block' : 'none';\n",
              "    })();\n",
              "  </script>\n",
              "</div>\n",
              "    </div>\n",
              "  </div>\n"
            ]
          },
          "metadata": {},
          "execution_count": 35
        }
      ],
      "source": [
        "data = pd.DataFrame(svm.cv_results_)\n",
        "data"
      ]
    },
    {
      "cell_type": "code",
      "execution_count": null,
      "metadata": {
        "colab": {
          "base_uri": "https://localhost:8080/"
        },
        "id": "nu21xoKCOr27",
        "outputId": "a63d0995-9696-463e-e170-5a3cd5f8e126"
      },
      "outputs": [
        {
          "output_type": "execute_result",
          "data": {
            "text/plain": [
              "   param_C param_kernel  mean_test_score\n",
              "0        1          rbf         0.732996\n",
              "1        1       linear         0.780364\n",
              "2        5          rbf         0.816028\n",
              "3        5       linear         0.873759\n",
              "4        6          rbf         0.821279\n",
              "5        6       linear         0.873759\n",
              "6       10          rbf         0.852625\n",
              "7       10       linear         0.894843\n",
              "8       15          rbf         0.865851\n",
              "9       15       linear         0.900234\n",
              "10      20          rbf         0.860474\n",
              "11      20       linear         0.918856"
            ],
            "text/html": [
              "\n",
              "  <div id=\"df-6b5007ef-56c7-4868-ab8b-6ed329211e5f\" class=\"colab-df-container\">\n",
              "    <div>\n",
              "<style scoped>\n",
              "    .dataframe tbody tr th:only-of-type {\n",
              "        vertical-align: middle;\n",
              "    }\n",
              "\n",
              "    .dataframe tbody tr th {\n",
              "        vertical-align: top;\n",
              "    }\n",
              "\n",
              "    .dataframe thead th {\n",
              "        text-align: right;\n",
              "    }\n",
              "</style>\n",
              "<table border=\"1\" class=\"dataframe\">\n",
              "  <thead>\n",
              "    <tr style=\"text-align: right;\">\n",
              "      <th></th>\n",
              "      <th>param_C</th>\n",
              "      <th>param_kernel</th>\n",
              "      <th>mean_test_score</th>\n",
              "    </tr>\n",
              "  </thead>\n",
              "  <tbody>\n",
              "    <tr>\n",
              "      <th>0</th>\n",
              "      <td>1</td>\n",
              "      <td>rbf</td>\n",
              "      <td>0.732996</td>\n",
              "    </tr>\n",
              "    <tr>\n",
              "      <th>1</th>\n",
              "      <td>1</td>\n",
              "      <td>linear</td>\n",
              "      <td>0.780364</td>\n",
              "    </tr>\n",
              "    <tr>\n",
              "      <th>2</th>\n",
              "      <td>5</td>\n",
              "      <td>rbf</td>\n",
              "      <td>0.816028</td>\n",
              "    </tr>\n",
              "    <tr>\n",
              "      <th>3</th>\n",
              "      <td>5</td>\n",
              "      <td>linear</td>\n",
              "      <td>0.873759</td>\n",
              "    </tr>\n",
              "    <tr>\n",
              "      <th>4</th>\n",
              "      <td>6</td>\n",
              "      <td>rbf</td>\n",
              "      <td>0.821279</td>\n",
              "    </tr>\n",
              "    <tr>\n",
              "      <th>5</th>\n",
              "      <td>6</td>\n",
              "      <td>linear</td>\n",
              "      <td>0.873759</td>\n",
              "    </tr>\n",
              "    <tr>\n",
              "      <th>6</th>\n",
              "      <td>10</td>\n",
              "      <td>rbf</td>\n",
              "      <td>0.852625</td>\n",
              "    </tr>\n",
              "    <tr>\n",
              "      <th>7</th>\n",
              "      <td>10</td>\n",
              "      <td>linear</td>\n",
              "      <td>0.894843</td>\n",
              "    </tr>\n",
              "    <tr>\n",
              "      <th>8</th>\n",
              "      <td>15</td>\n",
              "      <td>rbf</td>\n",
              "      <td>0.865851</td>\n",
              "    </tr>\n",
              "    <tr>\n",
              "      <th>9</th>\n",
              "      <td>15</td>\n",
              "      <td>linear</td>\n",
              "      <td>0.900234</td>\n",
              "    </tr>\n",
              "    <tr>\n",
              "      <th>10</th>\n",
              "      <td>20</td>\n",
              "      <td>rbf</td>\n",
              "      <td>0.860474</td>\n",
              "    </tr>\n",
              "    <tr>\n",
              "      <th>11</th>\n",
              "      <td>20</td>\n",
              "      <td>linear</td>\n",
              "      <td>0.918856</td>\n",
              "    </tr>\n",
              "  </tbody>\n",
              "</table>\n",
              "</div>\n",
              "    <div class=\"colab-df-buttons\">\n",
              "\n",
              "  <div class=\"colab-df-container\">\n",
              "    <button class=\"colab-df-convert\" onclick=\"convertToInteractive('df-6b5007ef-56c7-4868-ab8b-6ed329211e5f')\"\n",
              "            title=\"Convert this dataframe to an interactive table.\"\n",
              "            style=\"display:none;\">\n",
              "\n",
              "  <svg xmlns=\"http://www.w3.org/2000/svg\" height=\"24px\" viewBox=\"0 -960 960 960\">\n",
              "    <path d=\"M120-120v-720h720v720H120Zm60-500h600v-160H180v160Zm220 220h160v-160H400v160Zm0 220h160v-160H400v160ZM180-400h160v-160H180v160Zm440 0h160v-160H620v160ZM180-180h160v-160H180v160Zm440 0h160v-160H620v160Z\"/>\n",
              "  </svg>\n",
              "    </button>\n",
              "\n",
              "  <style>\n",
              "    .colab-df-container {\n",
              "      display:flex;\n",
              "      gap: 12px;\n",
              "    }\n",
              "\n",
              "    .colab-df-convert {\n",
              "      background-color: #E8F0FE;\n",
              "      border: none;\n",
              "      border-radius: 50%;\n",
              "      cursor: pointer;\n",
              "      display: none;\n",
              "      fill: #1967D2;\n",
              "      height: 32px;\n",
              "      padding: 0 0 0 0;\n",
              "      width: 32px;\n",
              "    }\n",
              "\n",
              "    .colab-df-convert:hover {\n",
              "      background-color: #E2EBFA;\n",
              "      box-shadow: 0px 1px 2px rgba(60, 64, 67, 0.3), 0px 1px 3px 1px rgba(60, 64, 67, 0.15);\n",
              "      fill: #174EA6;\n",
              "    }\n",
              "\n",
              "    .colab-df-buttons div {\n",
              "      margin-bottom: 4px;\n",
              "    }\n",
              "\n",
              "    [theme=dark] .colab-df-convert {\n",
              "      background-color: #3B4455;\n",
              "      fill: #D2E3FC;\n",
              "    }\n",
              "\n",
              "    [theme=dark] .colab-df-convert:hover {\n",
              "      background-color: #434B5C;\n",
              "      box-shadow: 0px 1px 3px 1px rgba(0, 0, 0, 0.15);\n",
              "      filter: drop-shadow(0px 1px 2px rgba(0, 0, 0, 0.3));\n",
              "      fill: #FFFFFF;\n",
              "    }\n",
              "  </style>\n",
              "\n",
              "    <script>\n",
              "      const buttonEl =\n",
              "        document.querySelector('#df-6b5007ef-56c7-4868-ab8b-6ed329211e5f button.colab-df-convert');\n",
              "      buttonEl.style.display =\n",
              "        google.colab.kernel.accessAllowed ? 'block' : 'none';\n",
              "\n",
              "      async function convertToInteractive(key) {\n",
              "        const element = document.querySelector('#df-6b5007ef-56c7-4868-ab8b-6ed329211e5f');\n",
              "        const dataTable =\n",
              "          await google.colab.kernel.invokeFunction('convertToInteractive',\n",
              "                                                    [key], {});\n",
              "        if (!dataTable) return;\n",
              "\n",
              "        const docLinkHtml = 'Like what you see? Visit the ' +\n",
              "          '<a target=\"_blank\" href=https://colab.research.google.com/notebooks/data_table.ipynb>data table notebook</a>'\n",
              "          + ' to learn more about interactive tables.';\n",
              "        element.innerHTML = '';\n",
              "        dataTable['output_type'] = 'display_data';\n",
              "        await google.colab.output.renderOutput(dataTable, element);\n",
              "        const docLink = document.createElement('div');\n",
              "        docLink.innerHTML = docLinkHtml;\n",
              "        element.appendChild(docLink);\n",
              "      }\n",
              "    </script>\n",
              "  </div>\n",
              "\n",
              "\n",
              "<div id=\"df-c6ab15d5-9887-4e3c-95e4-661262f6bc80\">\n",
              "  <button class=\"colab-df-quickchart\" onclick=\"quickchart('df-c6ab15d5-9887-4e3c-95e4-661262f6bc80')\"\n",
              "            title=\"Suggest charts\"\n",
              "            style=\"display:none;\">\n",
              "\n",
              "<svg xmlns=\"http://www.w3.org/2000/svg\" height=\"24px\"viewBox=\"0 0 24 24\"\n",
              "     width=\"24px\">\n",
              "    <g>\n",
              "        <path d=\"M19 3H5c-1.1 0-2 .9-2 2v14c0 1.1.9 2 2 2h14c1.1 0 2-.9 2-2V5c0-1.1-.9-2-2-2zM9 17H7v-7h2v7zm4 0h-2V7h2v10zm4 0h-2v-4h2v4z\"/>\n",
              "    </g>\n",
              "</svg>\n",
              "  </button>\n",
              "\n",
              "<style>\n",
              "  .colab-df-quickchart {\n",
              "      --bg-color: #E8F0FE;\n",
              "      --fill-color: #1967D2;\n",
              "      --hover-bg-color: #E2EBFA;\n",
              "      --hover-fill-color: #174EA6;\n",
              "      --disabled-fill-color: #AAA;\n",
              "      --disabled-bg-color: #DDD;\n",
              "  }\n",
              "\n",
              "  [theme=dark] .colab-df-quickchart {\n",
              "      --bg-color: #3B4455;\n",
              "      --fill-color: #D2E3FC;\n",
              "      --hover-bg-color: #434B5C;\n",
              "      --hover-fill-color: #FFFFFF;\n",
              "      --disabled-bg-color: #3B4455;\n",
              "      --disabled-fill-color: #666;\n",
              "  }\n",
              "\n",
              "  .colab-df-quickchart {\n",
              "    background-color: var(--bg-color);\n",
              "    border: none;\n",
              "    border-radius: 50%;\n",
              "    cursor: pointer;\n",
              "    display: none;\n",
              "    fill: var(--fill-color);\n",
              "    height: 32px;\n",
              "    padding: 0;\n",
              "    width: 32px;\n",
              "  }\n",
              "\n",
              "  .colab-df-quickchart:hover {\n",
              "    background-color: var(--hover-bg-color);\n",
              "    box-shadow: 0 1px 2px rgba(60, 64, 67, 0.3), 0 1px 3px 1px rgba(60, 64, 67, 0.15);\n",
              "    fill: var(--button-hover-fill-color);\n",
              "  }\n",
              "\n",
              "  .colab-df-quickchart-complete:disabled,\n",
              "  .colab-df-quickchart-complete:disabled:hover {\n",
              "    background-color: var(--disabled-bg-color);\n",
              "    fill: var(--disabled-fill-color);\n",
              "    box-shadow: none;\n",
              "  }\n",
              "\n",
              "  .colab-df-spinner {\n",
              "    border: 2px solid var(--fill-color);\n",
              "    border-color: transparent;\n",
              "    border-bottom-color: var(--fill-color);\n",
              "    animation:\n",
              "      spin 1s steps(1) infinite;\n",
              "  }\n",
              "\n",
              "  @keyframes spin {\n",
              "    0% {\n",
              "      border-color: transparent;\n",
              "      border-bottom-color: var(--fill-color);\n",
              "      border-left-color: var(--fill-color);\n",
              "    }\n",
              "    20% {\n",
              "      border-color: transparent;\n",
              "      border-left-color: var(--fill-color);\n",
              "      border-top-color: var(--fill-color);\n",
              "    }\n",
              "    30% {\n",
              "      border-color: transparent;\n",
              "      border-left-color: var(--fill-color);\n",
              "      border-top-color: var(--fill-color);\n",
              "      border-right-color: var(--fill-color);\n",
              "    }\n",
              "    40% {\n",
              "      border-color: transparent;\n",
              "      border-right-color: var(--fill-color);\n",
              "      border-top-color: var(--fill-color);\n",
              "    }\n",
              "    60% {\n",
              "      border-color: transparent;\n",
              "      border-right-color: var(--fill-color);\n",
              "    }\n",
              "    80% {\n",
              "      border-color: transparent;\n",
              "      border-right-color: var(--fill-color);\n",
              "      border-bottom-color: var(--fill-color);\n",
              "    }\n",
              "    90% {\n",
              "      border-color: transparent;\n",
              "      border-bottom-color: var(--fill-color);\n",
              "    }\n",
              "  }\n",
              "</style>\n",
              "\n",
              "  <script>\n",
              "    async function quickchart(key) {\n",
              "      const quickchartButtonEl =\n",
              "        document.querySelector('#' + key + ' button');\n",
              "      quickchartButtonEl.disabled = true;  // To prevent multiple clicks.\n",
              "      quickchartButtonEl.classList.add('colab-df-spinner');\n",
              "      try {\n",
              "        const charts = await google.colab.kernel.invokeFunction(\n",
              "            'suggestCharts', [key], {});\n",
              "      } catch (error) {\n",
              "        console.error('Error during call to suggestCharts:', error);\n",
              "      }\n",
              "      quickchartButtonEl.classList.remove('colab-df-spinner');\n",
              "      quickchartButtonEl.classList.add('colab-df-quickchart-complete');\n",
              "    }\n",
              "    (() => {\n",
              "      let quickchartButtonEl =\n",
              "        document.querySelector('#df-c6ab15d5-9887-4e3c-95e4-661262f6bc80 button');\n",
              "      quickchartButtonEl.style.display =\n",
              "        google.colab.kernel.accessAllowed ? 'block' : 'none';\n",
              "    })();\n",
              "  </script>\n",
              "</div>\n",
              "    </div>\n",
              "  </div>\n"
            ]
          },
          "metadata": {},
          "execution_count": 36
        }
      ],
      "source": [
        "data[['param_C','param_kernel','mean_test_score']]"
      ]
    },
    {
      "cell_type": "markdown",
      "metadata": {
        "id": "kqj-r5U8xeAK"
      },
      "source": [
        "# KNN"
      ]
    },
    {
      "cell_type": "code",
      "execution_count": null,
      "metadata": {
        "id": "INYaSsHlyCej"
      },
      "outputs": [],
      "source": [
        "from sklearn.preprocessing import StandardScaler\n",
        "from sklearn.neighbors import KNeighborsClassifier\n",
        "from sklearn.metrics import classification_report, confusion_matrix,accuracy_score\n"
      ]
    },
    {
      "cell_type": "code",
      "execution_count": null,
      "metadata": {
        "colab": {
          "base_uri": "https://localhost:8080/"
        },
        "id": "H1OAmOaZyDnw",
        "outputId": "3bef7dd0-cff4-400a-affe-8c3c8e58dfc9"
      },
      "outputs": [
        {
          "output_type": "stream",
          "name": "stdout",
          "text": [
            "[[429  20]\n",
            " [ 56 400]]\n",
            "              precision    recall  f1-score   support\n",
            "\n",
            "           0       0.88      0.96      0.92       449\n",
            "           1       0.95      0.88      0.91       456\n",
            "\n",
            "    accuracy                           0.92       905\n",
            "   macro avg       0.92      0.92      0.92       905\n",
            "weighted avg       0.92      0.92      0.92       905\n",
            "\n",
            "Accuracy: 0.9160220994475138\n",
            "Precision: 0.9523809523809523\n",
            "Recall: 0.8771929824561403\n",
            "F1-Score: 0.9132420091324202\n",
            "Training Accuracy: 0.9198966408268734\n",
            "Validation Accuracy: 0.9248618784530387\n"
          ]
        }
      ],
      "source": [
        "# Assign algorithm\n",
        "knn = KNeighborsClassifier(n_neighbors=5)\n",
        "\n",
        "# Fit algorithm to data\n",
        "knn.fit(X_train, y_train)\n",
        "\n",
        "# Run algorithm on test data to make predictions\n",
        "knn_pred = knn.predict(X_test)\n",
        "\n",
        "# Evaluate predictions\n",
        "print(confusion_matrix(y_test, knn_pred))\n",
        "print(classification_report(y_test, knn_pred))\n",
        "from sklearn.metrics import precision_score, recall_score, f1_score\n",
        "\n",
        "# Calculate precision, recall, and F1-score\n",
        "precision = precision_score(y_test, knn_pred)\n",
        "recall = recall_score(y_test, knn_pred)\n",
        "f1 = f1_score(y_test, knn_pred)\n",
        "\n",
        "print(\"Accuracy:\", accuracy_score(y_test, knn_pred))\n",
        "print(\"Precision:\", precision)\n",
        "print(\"Recall:\", recall)\n",
        "print(\"F1-Score:\", f1)\n",
        "\n",
        "# accuracy_score(y_test,knn)\n",
        "# train_predictions =knn_pred(X_train)\n",
        "# val_predictions = knn_pred(X_test)\n",
        "\n",
        "# Calculate accuracy on training and validation sets\n",
        "train_accuracy = accuracy_score(y_train, train_predictions)\n",
        "val_accuracy = accuracy_score(y_test, val_predictions)\n",
        "\n",
        "print(f\"Training Accuracy: {train_accuracy}\")\n",
        "print(f\"Validation Accuracy: {val_accuracy}\")\n",
        "\n"
      ]
    },
    {
      "cell_type": "code",
      "execution_count": null,
      "metadata": {
        "colab": {
          "base_uri": "https://localhost:8080/"
        },
        "id": "4vRoBx2Vj1OS",
        "outputId": "e92ba26b-db51-4a2b-e5af-22b11d8ebf80"
      },
      "outputs": [
        {
          "output_type": "display_data",
          "data": {
            "text/plain": [
              "<Figure size 640x480 with 1 Axes>"
            ],
            "image/png": "[encoded data removed]"
          },
          "metadata": {}
        }
      ],
      "source": [
        "import matplotlib.pyplot as plt\n",
        "k_range = list(range(1, 17))\n",
        "scores = []\n",
        "for i in k_range:\n",
        "    knn = KNeighborsClassifier(n_neighbors=i)\n",
        "    knn.fit(X_train, y_train)\n",
        "    y_pred = knn.predict(X_test)\n",
        "    scores.append(accuracy_score(y_test, y_pred))\n",
        "plt.plot(k_range, scores)\n",
        "plt.show()\n"
      ]
    },
    {
      "cell_type": "markdown",
      "metadata": {
        "id": "h2tZGCGdzD8G"
      },
      "source": [
        "# Logistic_Regression(Classfication)"
      ]
    },
    {
      "cell_type": "code",
      "execution_count": null,
      "metadata": {
        "id": "EbVkj3tnzzrU"
      },
      "outputs": [],
      "source": [
        "from sklearn.linear_model import LogisticRegression\n",
        "from sklearn.metrics import confusion_matrix , classification_report"
      ]
    },
    {
      "cell_type": "code",
      "execution_count": null,
      "metadata": {
        "colab": {
          "base_uri": "https://localhost:8080/"
        },
        "id": "8ZzWx9wqzcu7",
        "outputId": "f95edcd5-09ed-41e7-9463-caf23e8fa8c6"
      },
      "outputs": [
        {
          "output_type": "stream",
          "name": "stdout",
          "text": [
            "[[448   1]\n",
            " [ 48 408]]\n",
            "              precision    recall  f1-score   support\n",
            "\n",
            "           0       0.90      1.00      0.95       449\n",
            "           1       1.00      0.89      0.94       456\n",
            "\n",
            "    accuracy                           0.95       905\n",
            "   macro avg       0.95      0.95      0.95       905\n",
            "weighted avg       0.95      0.95      0.95       905\n",
            "\n",
            "Accuracy: 0.9458563535911603\n",
            "Precision: 0.9975550122249389\n",
            "Recall: 0.8947368421052632\n",
            "F1-Score: 0.9433526011560694\n"
          ]
        }
      ],
      "source": [
        "# Assign algorithm\n",
        "lr=LogisticRegression( penalty='l1', solver='liblinear')\n",
        "\n",
        "\n",
        "\n",
        "# Link algorithm to X and y variables\n",
        "lr.fit(X_train, y_train)\n",
        "\n",
        "# Run algorithm on test data to make predictions\n",
        "y1_pred = lr.predict(X_test)\n",
        "\n",
        "# Evaluate predictions\n",
        "print(confusion_matrix(y_test, y1_pred))\n",
        "print(classification_report(y_test,y1_pred))\n",
        "lr.score=(X_test,y_test)\n",
        "# Calculate precision, recall, and F1-score\n",
        "precision = precision_score(y_test, y1_pred)\n",
        "recall = recall_score(y_test, y1_pred)\n",
        "f1 = f1_score(y_test, y1_pred)\n",
        "\n",
        "print(\"Accuracy:\", accuracy_score(y_test, y1_pred))\n",
        "print(\"Precision:\", precision)\n",
        "print(\"Recall:\", recall)\n",
        "print(\"F1-Score:\", f1)"
      ]
    },
    {
      "cell_type": "markdown",
      "metadata": {
        "id": "wkz8iPllpr05"
      },
      "source": [
        "# Decsion trees"
      ]
    },
    {
      "cell_type": "code",
      "execution_count": null,
      "metadata": {
        "id": "g9JuaWfbpvN9"
      },
      "outputs": [],
      "source": [
        "from sklearn.tree import DecisionTreeClassifier\n",
        "from sklearn.metrics import mean_absolute_error\n",
        "from sklearn.metrics import classification_report, confusion_matrix"
      ]
    },
    {
      "cell_type": "code",
      "execution_count": null,
      "metadata": {
        "colab": {
          "base_uri": "https://localhost:8080/"
        },
        "id": "to_LdWrWpw6A",
        "outputId": "0b9594cd-f620-4ff8-949b-f878c8cebbb6"
      },
      "outputs": [
        {
          "output_type": "stream",
          "name": "stdout",
          "text": [
            "[[393  56]\n",
            " [  1 455]]\n",
            "              precision    recall  f1-score   support\n",
            "\n",
            "           0       1.00      0.88      0.93       449\n",
            "           1       0.89      1.00      0.94       456\n",
            "\n",
            "    accuracy                           0.94       905\n",
            "   macro avg       0.94      0.94      0.94       905\n",
            "weighted avg       0.94      0.94      0.94       905\n",
            "\n",
            "Training Accuracy: 0.9612403100775194\n",
            "Validation Accuracy: 0.9370165745856354\n",
            "Accuracy: 0.9370165745856354\n",
            "Precision: 0.8904109589041096\n",
            "Recall: 0.9978070175438597\n",
            "F1-Score: 0.9410548086866598\n"
          ]
        }
      ],
      "source": [
        "# Assign algorithm\n",
        "dt = DecisionTreeClassifier(max_depth=2,criterion='entropy',min_samples_split=10,min_samples_leaf=10,max_features=3)\n",
        "\n",
        "# Link algorithm to X and y variables\n",
        "dt.fit(X_train, y_train)\n",
        "y_pred = dt.predict(X_test)\n",
        "# Evaluate predictions\n",
        "print(confusion_matrix(y_test, y_pred))\n",
        "print(classification_report(y_test, y_pred))\n",
        "\n",
        "# # Check prediction error for training data using MAE\n",
        "# mae_train = mean_absolute_error(y_train, dt.predict(X_train))\n",
        "# print (\"Training Set Mean Absolute Error: %.2f\" % mae_train)\n",
        "\n",
        "# # Check prediction error for test data using MAE\n",
        "# mae_test = mean_absolute_error(y_test,dt.predict(X_test))\n",
        "# print (\"Test Set Mean Absolute Error: %.2f\" % mae_test)\n",
        "# # Predict on the training and validation sets\n",
        "train_predictions = dt.predict(X_train)\n",
        "val_predictions = dt.predict(X_test)\n",
        "\n",
        "# Calculate accuracy on training and validation sets\n",
        "train_accuracy = accuracy_score(y_train, train_predictions)\n",
        "val_accuracy = accuracy_score(y_test, val_predictions)\n",
        "\n",
        "print(f\"Training Accuracy: {train_accuracy}\")\n",
        "print(f\"Validation Accuracy: {val_accuracy}\")\n",
        "# Calculate precision, recall, and F1-score\n",
        "precision = precision_score(y_test, y_pred)\n",
        "recall = recall_score(y_test, y_pred)\n",
        "f1 = f1_score(y_test, y_pred)\n",
        "\n",
        "print(\"Accuracy:\", accuracy_score(y_test, y_pred))\n",
        "print(\"Precision:\", precision)\n",
        "print(\"Recall:\", recall)\n",
        "print(\"F1-Score:\", f1)"
      ]
    },
    {
      "cell_type": "code",
      "source": [
        "n_components = list(range(1, X.shape[1] + 1, 1))\n",
        "criterion = ['gini', 'entropy']\n",
        "max_depth = [2, 4, 6]\n",
        "min_samples_split=[80,85]\n",
        "min_samples_leaf=[80,85]\n",
        "max_features=[2,5]\n",
        "\n",
        "\n",
        "\n",
        "\n",
        "\n",
        "\n",
        "parameters = {\n",
        "    'max_depth': max_depth,\n",
        "    'criterion': criterion,\n",
        "    'min_samples_split':min_samples_split,\n",
        "    'min_samples_leaf':min_samples_leaf,\n",
        "    'max_features':max_features\n",
        "}\n",
        "\n",
        "dt = DecisionTreeClassifier()\n",
        "\n",
        "grid_search = GridSearchCV(estimator=dt, param_grid=parameters, cv=5)\n",
        "grid_search.fit(X_train, y_train)\n",
        "\n",
        "print('Best Criterion:', grid_search.best_estimator_.get_params()['criterion'])\n",
        "print('Best max_depth:', grid_search.best_estimator_.get_params()['max_depth'])\n",
        "print('min_samples_split:', grid_search.best_estimator_.get_params()['min_samples_split'])\n",
        "print('min_samples_leaf:', grid_search.best_estimator_.get_params()['min_samples_leaf'])\n",
        "print('max_features:', grid_search.best_estimator_.get_params()['max_features'])"
      ],
      "metadata": {
        "colab": {
          "base_uri": "https://localhost:8080/"
        },
        "id": "jdtpGeN8aWPf",
        "outputId": "e25b3bcc-fb15-4628-918a-edf35c12261f"
      },
      "execution_count": null,
      "outputs": [
        {
          "output_type": "stream",
          "name": "stdout",
          "text": [
            "Best Criterion: gini\n",
            "Best max_depth: 2\n",
            "min_samples_split: 80\n",
            "min_samples_leaf: 80\n",
            "max_features: 5\n"
          ]
        }
      ]
    },
    {
      "cell_type": "markdown",
      "metadata": {
        "id": "nkUsoHAkit8C"
      },
      "source": [
        "# Random forest with hyperparameters"
      ]
    },
    {
      "cell_type": "code",
      "execution_count": null,
      "metadata": {
        "id": "k0w4TYzXe8Ny"
      },
      "outputs": [],
      "source": [
        "from sklearn.ensemble import RandomForestClassifier"
      ]
    },
    {
      "cell_type": "code",
      "execution_count": null,
      "metadata": {
        "id": "h0Bu9w9kiywJ"
      },
      "outputs": [],
      "source": [
        "#Number of trees in random forest\n",
        "# Number of trees in random forest\n",
        "n_estimators = [int(x) for x in np.linspace(start = 10, stop = 80, num = 10)]\n",
        "# Number of features to consider at every split\n",
        "max_features = ['auto', 'sqrt']\n",
        "# Maximum number of levels in tree\n",
        "max_depth = [2,4]\n",
        "# Minimum number of samples required to split a node\n",
        "min_samples_split = [2, 5]\n",
        "# Minimum number of samples required at each leaf node\n",
        "min_samples_leaf = [1, 2]\n",
        "# Method of selecting samples for training each tree\n",
        "bootstrap = [True, False]"
      ]
    },
    {
      "cell_type": "code",
      "execution_count": null,
      "metadata": {
        "colab": {
          "base_uri": "https://localhost:8080/"
        },
        "id": "bABa3pHPlMNB",
        "outputId": "bfaf9c53-aca0-472b-f9ad-9d11470ac3dc"
      },
      "outputs": [
        {
          "output_type": "stream",
          "name": "stdout",
          "text": [
            "{'n_estimators': [10, 17, 25, 33, 41, 48, 56, 64, 72, 80], 'max_features': ['auto', 'sqrt'], 'max_depth': [2, 4], 'min_samples_split': [2, 5], 'min_samples_leaf': [1, 2], 'bootstrap': [True, False]}\n"
          ]
        }
      ],
      "source": [
        "# Create the param grid\n",
        "param_grid = {'n_estimators': n_estimators,\n",
        "               'max_features': max_features,\n",
        "               'max_depth': max_depth,\n",
        "               'min_samples_split': min_samples_split,\n",
        "               'min_samples_leaf': min_samples_leaf,\n",
        "               'bootstrap': bootstrap}\n",
        "print(param_grid)"
      ]
    },
    {
      "cell_type": "code",
      "execution_count": null,
      "metadata": {
        "id": "iZabGHMolW1R"
      },
      "outputs": [],
      "source": [
        "rf=RandomForestClassifier()"
      ]
    },
    {
      "cell_type": "code",
      "execution_count": null,
      "metadata": {
        "id": "YbTy4wazljaa"
      },
      "outputs": [],
      "source": [
        "from sklearn.model_selection import GridSearchCV\n",
        "rf_Grid = GridSearchCV(estimator = rf, param_grid = param_grid, cv = 3, verbose=2, n_jobs = 4)"
      ]
    },
    {
      "cell_type": "code",
      "execution_count": null,
      "metadata": {
        "colab": {
          "base_uri": "https://localhost:8080/",
          "height": 134
        },
        "id": "T0Ulirbvlznx",
        "outputId": "1eba1a04-95c2-4c7e-a4e9-7954747ee613"
      },
      "outputs": [
        {
          "output_type": "stream",
          "name": "stdout",
          "text": [
            "Fitting 3 folds for each of 320 candidates, totalling 960 fits\n"
          ]
        },
        {
          "output_type": "execute_result",
          "data": {
            "text/plain": [
              "GridSearchCV(cv=3, estimator=RandomForestClassifier(), n_jobs=4,\n",
              "             param_grid={'bootstrap': [True, False], 'max_depth': [2, 4],\n",
              "                         'max_features': ['auto', 'sqrt'],\n",
              "                         'min_samples_leaf': [1, 2],\n",
              "                         'min_samples_split': [2, 5],\n",
              "                         'n_estimators': [10, 17, 25, 33, 41, 48, 56, 64, 72,\n",
              "                                          80]},\n",
              "             verbose=2)"
            ],
            "text/html": [
              "<style>#sk-container-id-1 {color: black;background-color: white;}#sk-container-id-1 pre{padding: 0;}#sk-container-id-1 div.sk-toggleable {background-color: white;}#sk-container-id-1 label.sk-toggleable__label {cursor: pointer;display: block;width: 100%;margin-bottom: 0;padding: 0.3em;box-sizing: border-box;text-align: center;}#sk-container-id-1 label.sk-toggleable__label-arrow:before {content: \"▸\";float: left;margin-right: 0.25em;color: #696969;}#sk-container-id-1 label.sk-toggleable__label-arrow:hover:before {color: black;}#sk-container-id-1 div.sk-estimator:hover label.sk-toggleable__label-arrow:before {color: black;}#sk-container-id-1 div.sk-toggleable__content {max-height: 0;max-width: 0;overflow: hidden;text-align: left;background-color: #f0f8ff;}#sk-container-id-1 div.sk-toggleable__content pre {margin: 0.2em;color: black;border-radius: 0.25em;background-color: #f0f8ff;}#sk-container-id-1 input.sk-toggleable__control:checked~div.sk-toggleable__content {max-height: 200px;max-width: 100%;overflow: auto;}#sk-container-id-1 input.sk-toggleable__control:checked~label.sk-toggleable__label-arrow:before {content: \"▾\";}#sk-container-id-1 div.sk-estimator input.sk-toggleable__control:checked~label.sk-toggleable__label {background-color: #d4ebff;}#sk-container-id-1 div.sk-label input.sk-toggleable__control:checked~label.sk-toggleable__label {background-color: #d4ebff;}#sk-container-id-1 input.sk-hidden--visually {border: 0;clip: rect(1px 1px 1px 1px);clip: rect(1px, 1px, 1px, 1px);height: 1px;margin: -1px;overflow: hidden;padding: 0;position: absolute;width: 1px;}#sk-container-id-1 div.sk-estimator {font-family: monospace;background-color: #f0f8ff;border: 1px dotted black;border-radius: 0.25em;box-sizing: border-box;margin-bottom: 0.5em;}#sk-container-id-1 div.sk-estimator:hover {background-color: #d4ebff;}#sk-container-id-1 div.sk-parallel-item::after {content: \"\";width: 100%;border-bottom: 1px solid gray;flex-grow: 1;}#sk-container-id-1 div.sk-label:hover label.sk-toggleable__label {background-color: #d4ebff;}#sk-container-id-1 div.sk-serial::before {content: \"\";position: absolute;border-left: 1px solid gray;box-sizing: border-box;top: 0;bottom: 0;left: 50%;z-index: 0;}#sk-container-id-1 div.sk-serial {display: flex;flex-direction: column;align-items: center;background-color: white;padding-right: 0.2em;padding-left: 0.2em;position: relative;}#sk-container-id-1 div.sk-item {position: relative;z-index: 1;}#sk-container-id-1 div.sk-parallel {display: flex;align-items: stretch;justify-content: center;background-color: white;position: relative;}#sk-container-id-1 div.sk-item::before, #sk-container-id-1 div.sk-parallel-item::before {content: \"\";position: absolute;border-left: 1px solid gray;box-sizing: border-box;top: 0;bottom: 0;left: 50%;z-index: -1;}#sk-container-id-1 div.sk-parallel-item {display: flex;flex-direction: column;z-index: 1;position: relative;background-color: white;}#sk-container-id-1 div.sk-parallel-item:first-child::after {align-self: flex-end;width: 50%;}#sk-container-id-1 div.sk-parallel-item:last-child::after {align-self: flex-start;width: 50%;}#sk-container-id-1 div.sk-parallel-item:only-child::after {width: 0;}#sk-container-id-1 div.sk-dashed-wrapped {border: 1px dashed gray;margin: 0 0.4em 0.5em 0.4em;box-sizing: border-box;padding-bottom: 0.4em;background-color: white;}#sk-container-id-1 div.sk-label label {font-family: monospace;font-weight: bold;display: inline-block;line-height: 1.2em;}#sk-container-id-1 div.sk-label-container {text-align: center;}#sk-container-id-1 div.sk-container {/* jupyter's `normalize.less` sets `[hidden] { display: none; }` but bootstrap.min.css set `[hidden] { display: none !important; }` so we also need the `!important` here to be able to override the default hidden behavior on the sphinx rendered scikit-learn.org. See: https://github.com/scikit-learn/scikit-learn/issues/21755 */display: inline-block !important;position: relative;}#sk-container-id-1 div.sk-text-repr-fallback {display: none;}</style><div id=\"sk-container-id-1\" class=\"sk-top-container\"><div class=\"sk-text-repr-fallback\"><pre>GridSearchCV(cv=3, estimator=RandomForestClassifier(), n_jobs=4,\n",
              "             param_grid={&#x27;bootstrap&#x27;: [True, False], &#x27;max_depth&#x27;: [2, 4],\n",
              "                         &#x27;max_features&#x27;: [&#x27;auto&#x27;, &#x27;sqrt&#x27;],\n",
              "                         &#x27;min_samples_leaf&#x27;: [1, 2],\n",
              "                         &#x27;min_samples_split&#x27;: [2, 5],\n",
              "                         &#x27;n_estimators&#x27;: [10, 17, 25, 33, 41, 48, 56, 64, 72,\n",
              "                                          80]},\n",
              "             verbose=2)</pre><b>In a Jupyter environment, please rerun this cell to show the HTML representation or trust the notebook. <br />On GitHub, the HTML representation is unable to render, please try loading this page with nbviewer.org.</b></div><div class=\"sk-container\" hidden><div class=\"sk-item sk-dashed-wrapped\"><div class=\"sk-label-container\"><div class=\"sk-label sk-toggleable\"><input class=\"sk-toggleable__control sk-hidden--visually\" id=\"sk-estimator-id-1\" type=\"checkbox\" ><label for=\"sk-estimator-id-1\" class=\"sk-toggleable__label sk-toggleable__label-arrow\">GridSearchCV</label><div class=\"sk-toggleable__content\"><pre>GridSearchCV(cv=3, estimator=RandomForestClassifier(), n_jobs=4,\n",
              "             param_grid={&#x27;bootstrap&#x27;: [True, False], &#x27;max_depth&#x27;: [2, 4],\n",
              "                         &#x27;max_features&#x27;: [&#x27;auto&#x27;, &#x27;sqrt&#x27;],\n",
              "                         &#x27;min_samples_leaf&#x27;: [1, 2],\n",
              "                         &#x27;min_samples_split&#x27;: [2, 5],\n",
              "                         &#x27;n_estimators&#x27;: [10, 17, 25, 33, 41, 48, 56, 64, 72,\n",
              "                                          80]},\n",
              "             verbose=2)</pre></div></div></div><div class=\"sk-parallel\"><div class=\"sk-parallel-item\"><div class=\"sk-item\"><div class=\"sk-label-container\"><div class=\"sk-label sk-toggleable\"><input class=\"sk-toggleable__control sk-hidden--visually\" id=\"sk-estimator-id-2\" type=\"checkbox\" ><label for=\"sk-estimator-id-2\" class=\"sk-toggleable__label sk-toggleable__label-arrow\">estimator: RandomForestClassifier</label><div class=\"sk-toggleable__content\"><pre>RandomForestClassifier()</pre></div></div></div><div class=\"sk-serial\"><div class=\"sk-item\"><div class=\"sk-estimator sk-toggleable\"><input class=\"sk-toggleable__control sk-hidden--visually\" id=\"sk-estimator-id-3\" type=\"checkbox\" ><label for=\"sk-estimator-id-3\" class=\"sk-toggleable__label sk-toggleable__label-arrow\">RandomForestClassifier</label><div class=\"sk-toggleable__content\"><pre>RandomForestClassifier()</pre></div></div></div></div></div></div></div></div></div></div>"
            ]
          },
          "metadata": {},
          "execution_count": 111
        }
      ],
      "source": [
        "rf_Grid.fit(X_train,y_train)"
      ]
    },
    {
      "cell_type": "code",
      "execution_count": null,
      "metadata": {
        "id": "b4zvqXDgmkb6",
        "colab": {
          "base_uri": "https://localhost:8080/"
        },
        "outputId": "00a65c1b-742a-4224-dd4c-ec39350f1d7c"
      },
      "outputs": [
        {
          "output_type": "execute_result",
          "data": {
            "text/plain": [
              "{'bootstrap': True,\n",
              " 'max_depth': 4,\n",
              " 'max_features': 'auto',\n",
              " 'min_samples_leaf': 1,\n",
              " 'min_samples_split': 2,\n",
              " 'n_estimators': 33}"
            ]
          },
          "metadata": {},
          "execution_count": 112
        }
      ],
      "source": [
        "rf_Grid.best_params_"
      ]
    },
    {
      "cell_type": "markdown",
      "metadata": {
        "id": "ALMiH8ur6M7Q"
      },
      "source": []
    },
    {
      "cell_type": "code",
      "execution_count": null,
      "metadata": {
        "id": "h73ZigdXm2rJ",
        "colab": {
          "base_uri": "https://localhost:8080/"
        },
        "outputId": "4d528a6e-82ee-4c8c-86ab-7ea726fb8593"
      },
      "outputs": [
        {
          "output_type": "stream",
          "name": "stdout",
          "text": [
            "Train Accuracy - : 0.997\n",
            "Test Accuracy - : 0.996\n"
          ]
        }
      ],
      "source": [
        "print (f'Train Accuracy - : {rf_Grid.score(X_train,y_train):.3f}')\n",
        "print (f'Test Accuracy - : {rf_Grid.score(X_test,y_test):.3f}')"
      ]
    },
    {
      "cell_type": "code",
      "execution_count": null,
      "metadata": {
        "id": "6c83gfTB4qLf",
        "colab": {
          "base_uri": "https://localhost:8080/"
        },
        "outputId": "03c61640-e320-4b7e-8c71-524af56d1989"
      },
      "outputs": [
        {
          "output_type": "stream",
          "name": "stdout",
          "text": [
            "Validation set score: 0.9955801104972376\n"
          ]
        }
      ],
      "source": [
        "param_grid = {\n",
        "    'n_estimators': [100, 200, 300],\n",
        "    'max_depth': [None, 5, 10, 15],\n",
        "    'min_samples_split': [2, 5, 10]\n",
        "}\n",
        "from sklearn.model_selection import train_test_split, GridSearchCV\n",
        "# Perform GridSearchCV for hyperparameter tuning\n",
        "grid_search = GridSearchCV(rf, param_grid, cv=5)\n",
        "grid_search.fit(X_train, y_train)\n",
        "\n",
        "# Get the best parameters and model\n",
        "best_params = grid_search.best_params_\n",
        "best_model = grid_search.best_estimator_\n",
        "\n",
        "# Evaluate the best model on the validation set\n",
        "val_score = best_model.score(X_test, y_test)\n",
        "print(\"Validation set score:\", val_score)"
      ]
    },
    {
      "cell_type": "markdown",
      "source": [
        "# Comparison the models"
      ],
      "metadata": {
        "id": "mewI6bK2kGme"
      }
    },
    {
      "cell_type": "code",
      "source": [
        "compare_models_train_test()"
      ],
      "metadata": {
        "colab": {
          "base_uri": "https://localhost:8080/"
        },
        "id": "weva-BLB0cqW",
        "outputId": "87dbc0a5-5f1c-45d9-8744-923d711394d1"
      },
      "execution_count": null,
      "outputs": [
        {
          "output_type": "stream",
          "name": "stdout",
          "text": [
            "Accuracy score of the  LogisticRegression(max_iter=1000)  =  0.8210526315789474\n",
            "Accuracy score of the  SVC(kernel='linear')  =  0.8421052631578947\n",
            "Accuracy score of the  KNeighborsClassifier()  =  0.9578947368421052\n",
            "Accuracy score of the  RandomForestClassifier()  =  0.9947368421052631\n"
          ]
        }
      ]
    },
    {
      "cell_type": "code",
      "source": [
        "# list of models\n",
        "models = [LogisticRegression(max_iter=1000), SVC(kernel='linear'), KNeighborsClassifier(), RandomForestClassifier(),DecisionTreeClassifier()]"
      ],
      "metadata": {
        "id": "THfJRKUPzhZk"
      },
      "execution_count": null,
      "outputs": []
    },
    {
      "cell_type": "code",
      "source": [
        "def compare_models_train_test():\n",
        "\n",
        "  for model in models:\n",
        "\n",
        "    # training the model\n",
        "    model.fit(X_train, y_train)\n",
        "\n",
        "    # evaluating the model\n",
        "    test_data_prediction = model.predict(X_test)\n",
        "\n",
        "    accuracy = accuracy_score(y_test, test_data_prediction)\n",
        "\n",
        "    print('Accuracy score of the ', model, ' = ', accuracy)"
      ],
      "metadata": {
        "id": "e_thyh5fztiB"
      },
      "execution_count": null,
      "outputs": []
    },
    {
      "cell_type": "markdown",
      "metadata": {
        "id": "QXN70UR_T71P"
      },
      "source": [
        "# **Cross Validation**\n"
      ]
    },
    {
      "cell_type": "markdown",
      "metadata": {
        "id": "PM7T3y-kVUs3"
      },
      "source": [
        "Logistic Regression"
      ]
    },
    {
      "cell_type": "code",
      "execution_count": null,
      "metadata": {
        "id": "rr-mgV9cVgC-"
      },
      "outputs": [],
      "source": [
        "from sklearn.model_selection import cross_val_score\n",
        "from sklearn.metrics import accuracy_score"
      ]
    },
    {
      "cell_type": "code",
      "execution_count": null,
      "metadata": {
        "id": "2rISYwcOVEi-",
        "colab": {
          "base_uri": "https://localhost:8080/"
        },
        "outputId": "5516c2f9-c7a4-4581-b873-c317002a9ecc"
      },
      "outputs": [
        {
          "output_type": "stream",
          "name": "stdout",
          "text": [
            "[0.89473684 0.91578947 0.92631579 0.84210526 0.88421053 0.86315789\n",
            " 0.88421053 0.91578947 0.97894737 0.91489362]\n",
            "90.2\n"
          ]
        }
      ],
      "source": [
        "cv_score_lr = cross_val_score(LogisticRegression(penalty='l1',solver='liblinear',max_iter=1000), X, y, cv=10)\n",
        "\n",
        "print(cv_score_lr)\n",
        "\n",
        "mean_accuracy_lr = sum(cv_score_lr)/len(cv_score_lr)\n",
        "\n",
        "mean_accuracy_lr = mean_accuracy_lr*100\n",
        "\n",
        "mean_accuracy_lr = round(mean_accuracy_lr, 2)\n",
        "\n",
        "print(mean_accuracy_lr)"
      ]
    },
    {
      "cell_type": "code",
      "source": [
        "cv_score_svm = cross_val_score(SVC(kernel='linear',gamma=\"auto\", probability=True,C=15), X, y, cv=10)\n",
        "\n",
        "print(cv_score_svm)\n",
        "\n",
        "mean_accuracy_svm = sum(cv_score_svm)/len(cv_score_svm)\n",
        "\n",
        "mean_accuracy_svm = mean_accuracy_svm*100\n",
        "\n",
        "mean_accuracy_svm = round(mean_accuracy_svm, 2)\n",
        "\n",
        "print(mean_accuracy_svm)"
      ],
      "metadata": {
        "colab": {
          "base_uri": "https://localhost:8080/"
        },
        "id": "nmIjZSCskhBu",
        "outputId": "925ce2f8-238e-42af-e4fc-dd563487c633"
      },
      "execution_count": null,
      "outputs": [
        {
          "output_type": "stream",
          "name": "stdout",
          "text": [
            "[0.93684211 0.94736842 0.93684211 0.91578947 0.90526316 0.91578947\n",
            " 0.94736842 0.95789474 0.95789474 0.93617021]\n",
            "93.57\n"
          ]
        }
      ]
    },
    {
      "cell_type": "markdown",
      "source": [
        "KNN"
      ],
      "metadata": {
        "id": "WyO56yMQnPS-"
      }
    },
    {
      "cell_type": "code",
      "source": [
        "cv_score_knn = cross_val_score( KNeighborsClassifier(n_neighbors=5), X, y, cv=10)\n",
        "\n",
        "print(cv_score_knn)\n",
        "\n",
        "mean_accuracy_knn = sum(cv_score_knn)/len(cv_score_knn)\n",
        "\n",
        "mean_accuracy_knn = mean_accuracy_knn*100\n",
        "\n",
        "mean_accuracy_knn = round(mean_accuracy_knn, 2)\n",
        "\n",
        "print(mean_accuracy_knn)"
      ],
      "metadata": {
        "colab": {
          "base_uri": "https://localhost:8080/"
        },
        "id": "UIlSv_TamMjI",
        "outputId": "ad71bc65-d606-4896-861e-4ed190c5897a"
      },
      "execution_count": null,
      "outputs": [
        {
          "output_type": "stream",
          "name": "stdout",
          "text": [
            "[0.90526316 0.90526316 0.97894737 0.98947368 0.98947368 1.\n",
            " 0.85263158 0.82105263 0.90526316 1.        ]\n",
            "93.47\n"
          ]
        }
      ]
    },
    {
      "cell_type": "markdown",
      "source": [
        "DT"
      ],
      "metadata": {
        "id": "0BGpncFuoT0l"
      }
    },
    {
      "cell_type": "code",
      "source": [
        "cv_score_dt = cross_val_score(DecisionTreeClassifier(max_depth=2,criterion='entropy',min_samples_split=10,min_samples_leaf=10,max_features=3), X, y, cv=10)\n",
        "\n",
        "print(cv_score_dt)\n",
        "\n",
        "mean_accuracy_dt = sum(cv_score_dt)/len(cv_score_dt)\n",
        "\n",
        "mean_accuracy_dt = mean_accuracy_dt*100\n",
        "\n",
        "mean_accuracy_dt = round(mean_accuracy_dt, 2)\n",
        "\n",
        "print(mean_accuracy_dt)"
      ],
      "metadata": {
        "colab": {
          "base_uri": "https://localhost:8080/"
        },
        "id": "DiVOz8w5oXoN",
        "outputId": "641d3e20-636a-4419-8331-fc313cd21fe1"
      },
      "execution_count": null,
      "outputs": [
        {
          "output_type": "stream",
          "name": "stdout",
          "text": [
            "[0.77894737 0.98947368 1.         1.         0.97894737 1.\n",
            " 0.98947368 0.88421053 0.97894737 0.9893617 ]\n",
            "95.89\n"
          ]
        }
      ]
    },
    {
      "cell_type": "markdown",
      "source": [
        "RandomForestClassfier"
      ],
      "metadata": {
        "id": "YEqtie-epN54"
      }
    },
    {
      "cell_type": "code",
      "source": [
        "cv_score_rf = cross_val_score( RandomForestClassifier(n_estimators=2,\n",
        "    ), X, y, cv=5)\n",
        "\n",
        "print(cv_score_rf)\n",
        "\n",
        "mean_accuracy_rf = sum(cv_score_rf)/len(cv_score_rf)\n",
        "\n",
        "mean_accuracy_rf = mean_accuracy_rf*100\n",
        "\n",
        "mean_accuracy_rf = round(mean_accuracy_rf, 2)\n",
        "\n",
        "print(mean_accuracy_rf)"
      ],
      "metadata": {
        "colab": {
          "base_uri": "https://localhost:8080/"
        },
        "id": "hRvfGWoCpRvv",
        "outputId": "605eb6d3-eb61-4ef7-d3f1-0020201499e2"
      },
      "execution_count": null,
      "outputs": [
        {
          "output_type": "stream",
          "name": "stdout",
          "text": [
            "[0.97894737 1.         1.         0.93684211 0.98941799]\n",
            "98.1\n"
          ]
        }
      ]
    },
    {
      "cell_type": "code",
      "source": [
        "# Define the scoring method as F1 score\n",
        "f1_scorer = make_scorer(f1_score)\n",
        "\n",
        "# Perform cross-validation and calculate F1 scores\n",
        "f1_scores = cross_val_score(rf, X, y, cv=5, scoring=f1_scorer)\n",
        "\n",
        "# Display F1 scores for each fold\n",
        "print(\"F1 Scores for each fold:\", f1_scores)\n",
        "\n",
        "# Calculate and display the mean F1 score\n",
        "mean_f1_score = np.mean(f1_scores)\n",
        "print(\"Mean F1 Score:\", mean_f1_score)"
      ],
      "metadata": {
        "id": "bcMHiC-FkFBY"
      },
      "execution_count": null,
      "outputs": []
    },
    {
      "cell_type": "code",
      "source": [
        "# list of models\n",
        "models = [LogisticRegression(max_iter=1000), SVC(kernel='linear'), KNeighborsClassifier(), RandomForestClassifier()]"
      ],
      "metadata": {
        "id": "ry2sDQQs1fW1"
      },
      "execution_count": null,
      "outputs": []
    },
    {
      "cell_type": "code",
      "source": [
        "def compare_models_cross_validation():\n",
        "\n",
        "  for model in models:\n",
        "\n",
        "    cv_score = cross_val_score(model, X,y, cv=5)\n",
        "\n",
        "    mean_accuracy = sum(cv_score)/len(cv_score)\n",
        "\n",
        "    mean_accuracy = mean_accuracy*100\n",
        "\n",
        "    mean_accuracy = round(mean_accuracy, 2)\n",
        "\n",
        "    print('Cross Validation accuracies for ', model, '=  ', cv_score)\n",
        "    print('Accuracy % of the ', model, mean_accuracy)\n",
        "    print('----------------------------------------------')"
      ],
      "metadata": {
        "id": "H8qTrLXf1jbi"
      },
      "execution_count": null,
      "outputs": []
    },
    {
      "cell_type": "code",
      "source": [
        "compare_models_cross_validation()"
      ],
      "metadata": {
        "colab": {
          "base_uri": "https://localhost:8080/"
        },
        "id": "90Dd6bRj1prf",
        "outputId": "d7aea629-adcf-4d0d-d57c-d172927c926a"
      },
      "execution_count": null,
      "outputs": [
        {
          "output_type": "stream",
          "name": "stdout",
          "text": [
            "Cross Validation accuracies for  LogisticRegression(max_iter=1000) =   [0.78947368 0.71052632 0.72631579 0.88421053 0.78306878]\n",
            "Accuracy % of the  LogisticRegression(max_iter=1000) 77.87\n",
            "----------------------------------------------\n",
            "Cross Validation accuracies for  SVC(kernel='linear') =   [0.79473684 0.72631579 0.76842105 0.89473684 0.81481481]\n",
            "Accuracy % of the  SVC(kernel='linear') 79.98\n",
            "----------------------------------------------\n",
            "Cross Validation accuracies for  KNeighborsClassifier() =   [0.88947368 0.97368421 0.99473684 0.84736842 0.95238095]\n",
            "Accuracy % of the  KNeighborsClassifier() 93.15\n",
            "----------------------------------------------\n",
            "Cross Validation accuracies for  RandomForestClassifier() =   [0.97894737 1.         1.         0.98421053 0.99470899]\n",
            "Accuracy % of the  RandomForestClassifier() 99.16\n",
            "----------------------------------------------\n"
          ]
        }
      ]
    },
    {
      "cell_type": "markdown",
      "metadata": {
        "id": "7t-7asap6UsX"
      },
      "source": [
        "# K fold validation"
      ]
    },
    {
      "cell_type": "code",
      "execution_count": null,
      "metadata": {
        "id": "vxWgIXfo6Q0X",
        "colab": {
          "base_uri": "https://localhost:8080/"
        },
        "outputId": "f6782125-9054-4fee-de0b-2117c962eac7"
      },
      "outputs": [
        {
          "output_type": "execute_result",
          "data": {
            "text/plain": [
              "KFold(n_splits=5, random_state=20, shuffle=True)"
            ]
          },
          "metadata": {},
          "execution_count": 256
        }
      ],
      "source": [
        "\n",
        "from sklearn.model_selection import KFold\n",
        "kf=KFold(n_splits=5,shuffle=True,random_state=20)\n",
        "kf\n"
      ]
    },
    {
      "cell_type": "code",
      "execution_count": null,
      "metadata": {
        "id": "4Sxf5ynwC0-k",
        "colab": {
          "base_uri": "https://localhost:8080/"
        },
        "outputId": "8df2bd5e-3684-43b4-aaff-65136ed4519a"
      },
      "outputs": [
        {
          "output_type": "stream",
          "name": "stdout",
          "text": [
            "[0 1 2 3 4 5 7] [6 8]\n",
            "[1 2 3 4 6 7 8] [0 5]\n",
            "[0 2 3 4 5 6 8] [1 7]\n",
            "[0 1 3 5 6 7 8] [2 4]\n",
            "[0 1 2 4 5 6 7 8] [3]\n"
          ]
        }
      ],
      "source": [
        "for train_index,test_index in kf.split([1,2,3,4,5,6,7,8,9]):\n",
        "  print(train_index,test_index)"
      ]
    },
    {
      "cell_type": "code",
      "execution_count": null,
      "metadata": {
        "id": "5IC3nBvf7eI2"
      },
      "outputs": [],
      "source": [
        "def get_score(model, X_train,X_test,y_train,y_test):\n",
        "  model.fit(X_train,y_train)\n",
        "  return model.score(X_test,y_test)"
      ]
    },
    {
      "cell_type": "code",
      "execution_count": null,
      "metadata": {
        "id": "3OVHDuRI8VJR",
        "colab": {
          "base_uri": "https://localhost:8080/"
        },
        "outputId": "51d0b77e-2257-4621-ab88-71f2549383f4"
      },
      "outputs": [
        {
          "output_type": "execute_result",
          "data": {
            "text/plain": [
              "0.8105263157894737"
            ]
          },
          "metadata": {},
          "execution_count": 259
        }
      ],
      "source": [
        "get_score(SVC(),X_train,X_test,y_train,y_test)"
      ]
    },
    {
      "cell_type": "code",
      "execution_count": null,
      "metadata": {
        "id": "AfJ-vf8o9Ius"
      },
      "outputs": [],
      "source": [
        "from sklearn.model_selection import StratifiedKFold\n",
        "folds= StratifiedKFold(n_splits=5)"
      ]
    },
    {
      "cell_type": "code",
      "execution_count": null,
      "metadata": {
        "id": "PvZni9I39pmn"
      },
      "outputs": [],
      "source": [
        "# list of models\n",
        "# models = [LogisticRegression(max_iter=1000), SVC(kernel='linear'), KNeighborsClassifier(), RandomForestClassifier(),DecisionTreeClassifier]"
      ]
    },
    {
      "cell_type": "code",
      "execution_count": null,
      "metadata": {
        "id": "fDY4Pb_W-H2u"
      },
      "outputs": [],
      "source": [
        "# def compare_models_cross_validation():\n",
        "\n",
        "#   for model in models:\n",
        "\n",
        "#     cv_score = cross_val_score(model, X,y, cv=5)\n",
        "\n",
        "#     mean_accuracy = sum(cv_score)/len(cv_score)\n",
        "\n",
        "#     mean_accuracy = mean_accuracy*100\n",
        "\n",
        "#     mean_accuracy = round(mean_accuracy, 2)\n",
        "\n",
        "#     print('Cross Validation accuracies for ', model, '=  ', cv_score)\n",
        "#     print('Accuracy % of the ', model, mean_accuracy)\n",
        "#     print('----------------------------------------------')\n"
      ]
    },
    {
      "cell_type": "code",
      "execution_count": null,
      "metadata": {
        "id": "6YyWscT7-O4R"
      },
      "outputs": [],
      "source": [
        "# compare_models_cross_validation()"
      ]
    },
    {
      "cell_type": "code",
      "execution_count": null,
      "metadata": {
        "id": "XkixCGm__6C5",
        "colab": {
          "base_uri": "https://localhost:8080/"
        },
        "outputId": "d046e8b7-313b-4e0d-8a35-26b2c8e3acce"
      },
      "outputs": [
        {
          "output_type": "stream",
          "name": "stdout",
          "text": [
            "[0.93684211 0.85263158 0.87368421 0.85263158 0.90526316 0.86315789\n",
            " 0.90526316 0.91578947 0.97894737 0.91489362]\n",
            "89.99\n"
          ]
        }
      ],
      "source": [
        "cv_score_lr = cross_val_score(LogisticRegression(penalty='l1',solver='liblinear',max_iter=1000), X, y, cv=10)\n",
        "\n",
        "print(cv_score_lr)\n",
        "\n",
        "mean_accuracy_lr = sum(cv_score_lr)/len(cv_score_lr)\n",
        "\n",
        "mean_accuracy_lr = mean_accuracy_lr*100\n",
        "\n",
        "mean_accuracy_lr = round(mean_accuracy_lr, 2)\n",
        "\n",
        "print(mean_accuracy_lr)"
      ]
    },
    {
      "cell_type": "code",
      "source": [
        "from sklearn.metrics import make_scorer, f1_score"
      ],
      "metadata": {
        "id": "5A-MqdaRlMig"
      },
      "execution_count": null,
      "outputs": []
    },
    {
      "cell_type": "code",
      "source": [
        "# Define the scoring method as F1 score\n",
        "f1_scorer = make_scorer(f1_score)\n",
        "\n",
        "# Perform cross-validation and calculate F1 scores\n",
        "f1_scores = cross_val_score(lr, X, y, cv=5, scoring=f1_scorer)\n",
        "\n",
        "# Display F1 scores for each fold\n",
        "print(\"F1 Scores for each fold:\", f1_scores)\n",
        "\n",
        "# Calculate and display the mean F1 score\n",
        "mean_f1_score = np.mean(f1_scores)\n",
        "print(\"Mean F1 Score:\", mean_f1_score)"
      ],
      "metadata": {
        "colab": {
          "base_uri": "https://localhost:8080/"
        },
        "id": "fWX6N6SGk7Je",
        "outputId": "05d998f9-ef1c-4bc0-a178-4bf8a5a5ad12"
      },
      "execution_count": null,
      "outputs": [
        {
          "output_type": "stream",
          "name": "stdout",
          "text": [
            "F1 Scores for each fold: [0.91358025 0.90909091 0.890625   0.93004115 0.98850575]\n",
            "Mean F1 Score: 0.9263686110788601\n"
          ]
        }
      ]
    },
    {
      "cell_type": "code",
      "execution_count": null,
      "metadata": {
        "id": "kxNBvd7wAQ96",
        "colab": {
          "base_uri": "https://localhost:8080/"
        },
        "outputId": "69785083-72b6-43ce-fb11-d00526c50c93"
      },
      "outputs": [
        {
          "output_type": "stream",
          "name": "stdout",
          "text": [
            "[0.93684211 0.94736842 0.93684211 0.91578947 0.90526316 0.91578947\n",
            " 0.94736842 0.95789474 0.95789474 0.93617021]\n",
            "93.57\n"
          ]
        }
      ],
      "source": [
        "cv_score_svm = cross_val_score(SVC(kernel='linear',gamma=\"auto\", probability=True,C=15), X, y, cv=10)\n",
        "\n",
        "print(cv_score_svm)\n",
        "\n",
        "mean_accuracy_svm = sum(cv_score_svm)/len(cv_score_svm)\n",
        "\n",
        "mean_accuracy_svm = mean_accuracy_svm*100\n",
        "\n",
        "mean_accuracy_svm = round(mean_accuracy_svm, 2)\n",
        "\n",
        "print(mean_accuracy_svm)"
      ]
    },
    {
      "cell_type": "code",
      "source": [
        "# Define the scoring method as F1 score\n",
        "f1_scorer = make_scorer(f1_score)\n",
        "\n",
        "# Perform cross-validation and calculate F1 scores\n",
        "f1_scores = cross_val_score(svm, X, y, cv=5, scoring=f1_scorer)\n",
        "\n",
        "# Display F1 scores for each fold\n",
        "print(\"F1 Scores for each fold:\", f1_scores)\n",
        "\n",
        "# Calculate and display the mean F1 score\n",
        "mean_f1_score = np.mean(f1_scores)\n",
        "print(\"Mean F1 Score:\", mean_f1_score)"
      ],
      "metadata": {
        "colab": {
          "base_uri": "https://localhost:8080/"
        },
        "id": "eV9ZF6VMmOMY",
        "outputId": "66356288-764c-4d26-e953-3e1ffbccd9f7"
      },
      "execution_count": null,
      "outputs": [
        {
          "output_type": "stream",
          "name": "stdout",
          "text": [
            "F1 Scores for each fold: [0.95582329 0.94262295 0.92946058 0.96825397 0.95967742]\n",
            "Mean F1 Score: 0.9511676425028067\n"
          ]
        }
      ]
    },
    {
      "cell_type": "code",
      "source": [
        "cv_score_knn = cross_val_score( KNeighborsClassifier(n_neighbors=5), X, y, cv=10)\n",
        "\n",
        "print(cv_score_knn)\n",
        "\n",
        "mean_accuracy_knn = sum(cv_score_knn)/len(cv_score_knn)\n",
        "\n",
        "mean_accuracy_knn = mean_accuracy_knn*100\n",
        "\n",
        "mean_accuracy_knn = round(mean_accuracy_knn, 2)\n",
        "\n",
        "print(mean_accuracy_knn)"
      ],
      "metadata": {
        "colab": {
          "base_uri": "https://localhost:8080/"
        },
        "id": "_n2nB6n42J79",
        "outputId": "1ac8d9d7-59cc-4dd2-c086-c2d411a38dfc"
      },
      "execution_count": null,
      "outputs": [
        {
          "output_type": "stream",
          "name": "stdout",
          "text": [
            "[0.90526316 0.90526316 0.97894737 0.98947368 0.98947368 1.\n",
            " 0.85263158 0.82105263 0.90526316 1.        ]\n",
            "93.47\n"
          ]
        }
      ]
    },
    {
      "cell_type": "code",
      "source": [
        "# Define the scoring method as F1 score\n",
        "f1_scorer = make_scorer(f1_score)\n",
        "\n",
        "# Perform cross-validation and calculate F1 scores\n",
        "f1_scores = cross_val_score(knn, X, y, cv=5, scoring=f1_scorer)\n",
        "\n",
        "# Display F1 scores for each fold\n",
        "print(\"F1 Scores for each fold:\", f1_scores)\n",
        "\n",
        "# Calculate and display the mean F1 score\n",
        "mean_f1_score = np.mean(f1_scores)\n",
        "print(\"Mean F1 Score:\", mean_f1_score)"
      ],
      "metadata": {
        "colab": {
          "base_uri": "https://localhost:8080/"
        },
        "id": "cjzQH-gNmqPE",
        "outputId": "8e2fd3cd-928f-48d0-d753-196f6b746f30"
      },
      "execution_count": null,
      "outputs": [
        {
          "output_type": "stream",
          "name": "stdout",
          "text": [
            "F1 Scores for each fold: [0.91566265 0.98069498 0.996139   0.88715953 0.96525097]\n",
            "Mean F1 Score: 0.9489814251522564\n"
          ]
        }
      ]
    },
    {
      "cell_type": "code",
      "source": [
        " cross_val_score(DecisionTreeClassifier(max_depth=2,criterion='entropy',min_samples_split=10,min_samples_leaf=10,max_features=3), X, y, cv=10)\n",
        "\n",
        "# print(cv_score_dt)\n",
        "\n",
        "# mean_accuracy_dt = sum(cv_score_dt)/len(cv_score_dt)\n",
        "\n",
        "# mean_accuracy_dt = mean_accuracy_dt*100\n",
        "\n",
        "# mean_accuracy_dt = round(mean_accuracy_dt, 2)\n",
        "\n",
        "# print(mean_accuracy_dt)"
      ],
      "metadata": {
        "colab": {
          "base_uri": "https://localhost:8080/"
        },
        "id": "5SVFQNgU2KTf",
        "outputId": "d16f0150-9a19-4136-d5ae-dc8fbf230ad3"
      },
      "execution_count": null,
      "outputs": [
        {
          "output_type": "execute_result",
          "data": {
            "text/plain": [
              "array([0.96842105, 0.98947368, 1.        , 1.        , 0.97894737,\n",
              "       1.        , 0.98947368, 1.        , 0.82105263, 0.9893617 ])"
            ]
          },
          "metadata": {},
          "execution_count": 267
        }
      ]
    },
    {
      "cell_type": "code",
      "source": [
        "# Define the scoring method as F1 score\n",
        "f1_scorer = make_scorer(f1_score)\n",
        "\n",
        "# Perform cross-validation and calculate F1 scores\n",
        "f1_scores = cross_val_score(dt, X, y, cv=5, scoring=f1_scorer)\n",
        "\n",
        "# Display F1 scores for each fold\n",
        "print(\"F1 Scores for each fold:\", f1_scores)\n",
        "\n",
        "# Calculate and display the mean F1 score\n",
        "mean_f1_score = np.mean(f1_scores)\n",
        "print(\"Mean F1 Score:\", mean_f1_score)"
      ],
      "metadata": {
        "colab": {
          "base_uri": "https://localhost:8080/"
        },
        "id": "JHJ2dZ2sm-ac",
        "outputId": "7afa371d-9b50-4de3-87e1-2b57b41eebf9"
      },
      "execution_count": null,
      "outputs": [
        {
          "output_type": "stream",
          "name": "stdout",
          "text": [
            "F1 Scores for each fold: [0.98449612 0.98425197 0.99230769 0.99616858 0.98850575]\n",
            "Mean F1 Score: 0.9891460228689105\n"
          ]
        }
      ]
    },
    {
      "cell_type": "code",
      "source": [
        "# cv_score_dt = cross_val_score(DecisionTreeClassifier(max_depth=2), X, y, cv=3)\n",
        "\n",
        "# print(cv_score_dt)\n",
        "\n",
        "# mean_accuracy_dt = sum(cv_score_dt)/len(cv_score_dt)\n",
        "\n",
        "# mean_accuracy_dt = mean_accuracy_dt*100\n",
        "\n",
        "# mean_accuracy_dt = round(mean_accuracy_dt, 2)\n",
        "\n",
        "# print(mean_accuracy_dt)"
      ],
      "metadata": {
        "id": "VM05hkpa9oif"
      },
      "execution_count": null,
      "outputs": []
    },
    {
      "cell_type": "code",
      "source": [
        "cv_score_rf = cross_val_score( RandomForestClassifier(n_estimators=2,\n",
        "    ), X, y, cv=5)\n",
        "\n",
        "print(cv_score_rf)\n",
        "\n",
        "mean_accuracy_rf = sum(cv_score_rf)/len(cv_score_rf)\n",
        "\n",
        "mean_accuracy_rf = mean_accuracy_rf*100\n",
        "\n",
        "mean_accuracy_rf = round(mean_accuracy_rf, 2)\n",
        "\n",
        "print(mean_accuracy_rf)\n"
      ],
      "metadata": {
        "colab": {
          "base_uri": "https://localhost:8080/"
        },
        "id": "M8L5fkKX2KcK",
        "outputId": "dca91c19-4d24-47a1-a62a-43b04c6c74d0"
      },
      "execution_count": null,
      "outputs": [
        {
          "output_type": "stream",
          "name": "stdout",
          "text": [
            "[0.97894737 1.         1.         0.93157895 0.99470899]\n",
            "98.1\n"
          ]
        }
      ]
    },
    {
      "cell_type": "code",
      "source": [
        "# Define the scoring method as F1 score\n",
        "f1_scorer = make_scorer(f1_score)\n",
        "\n",
        "# Perform cross-validation and calculate F1 scores\n",
        "f1_scores = cross_val_score(rf, X, y, cv=5, scoring=f1_scorer)\n",
        "\n",
        "# Display F1 scores for each fold\n",
        "print(\"F1 Scores for each fold:\", f1_scores)\n",
        "\n",
        "# Calculate and display the mean F1 score\n",
        "mean_f1_score = np.mean(f1_scores)\n",
        "print(\"Mean F1 Score:\", mean_f1_score)"
      ],
      "metadata": {
        "colab": {
          "base_uri": "https://localhost:8080/"
        },
        "id": "466EsD98nUTl",
        "outputId": "dcf5a9cf-f6cf-41e9-bc88-c52e9668cd4f"
      },
      "execution_count": null,
      "outputs": [
        {
          "output_type": "stream",
          "name": "stdout",
          "text": [
            "F1 Scores for each fold: [0.984375   1.         1.         0.98054475 0.996139  ]\n",
            "Mean F1 Score: 0.9922117486441417\n"
          ]
        }
      ]
    },
    {
      "cell_type": "markdown",
      "source": [
        "# Viral Fever detection\n"
      ],
      "metadata": {
        "id": "DfzqgYlCIMjd"
      }
    },
    {
      "cell_type": "code",
      "source": [
        "\n"
      ],
      "metadata": {
        "colab": {
          "base_uri": "https://localhost:8080/"
        },
        "id": "gNSzs_49Uq7z",
        "outputId": "2ec964c3-0c37-4212-e622-6eba17614347"
      },
      "execution_count": null,
      "outputs": [
        {
          "output_type": "stream",
          "name": "stdout",
          "text": [
            "Accuracy: 0.9894736842105263\n",
            "              precision    recall  f1-score   support\n",
            "\n",
            "           0       0.96      1.00      0.98        52\n",
            "           1       1.00      0.99      0.99       138\n",
            "\n",
            "    accuracy                           0.99       190\n",
            "   macro avg       0.98      0.99      0.99       190\n",
            "weighted avg       0.99      0.99      0.99       190\n",
            "\n"
          ]
        }
      ]
    },
    {
      "cell_type": "code",
      "source": [
        "from sklearn.datasets import make_blobs\n",
        "import matplotlib.pyplot as plt\n",
        "from sklearn.metrics import confusion_matrix\n",
        "from sklearn.metrics import ConfusionMatrixDisplay"
      ],
      "metadata": {
        "id": "cV8bp1wbVYBN"
      },
      "execution_count": null,
      "outputs": []
    }
  ],
  "metadata": {
    "colab": {
      "provenance": [],
      "toc_visible": true,
      "include_colab_link": true
    },
    "kernelspec": {
      "display_name": "Python 3",
      "name": "python3"
    },
    "language_info": {
      "name": "python"
    }
  },
  "nbformat": 4,
  "nbformat_minor": 0
}